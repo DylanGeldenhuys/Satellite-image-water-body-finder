{
 "nbformat": 4,
 "nbformat_minor": 2,
 "metadata": {
  "language_info": {
   "name": "python",
   "codemirror_mode": {
    "name": "ipython",
    "version": 3
   },
   "version": "3.7.3-final"
  },
  "orig_nbformat": 2,
  "file_extension": ".py",
  "mimetype": "text/x-python",
  "name": "python",
  "npconvert_exporter": "python",
  "pygments_lexer": "ipython3",
  "version": 3,
  "kernelspec": {
   "name": "python37364bitenvvenv1fbaec788d9645b19f24f26402789eba",
   "display_name": "Python 3.7.3 64-bit ('env': venv)"
  }
 },
 "cells": [
  {
   "cell_type": "code",
   "execution_count": 26,
   "metadata": {},
   "outputs": [
    {
     "output_type": "execute_result",
     "data": {
      "text/plain": "           variance    color1    color2    color3  variance2  color21  \\\n0         16.277344   73.1875   73.1875   65.1875   856.6224    58.24   \n1         17.937500   72.7500   73.2500   71.0000    31.4696    73.52   \n2          9.371094   69.4375   69.5625   67.1875    35.3459    69.79   \n3         18.714844   67.6875   68.0625   64.9375    26.9376    68.68   \n4          2.062500   70.2500   70.2500   69.2500    19.5675    70.55   \n...             ...       ...       ...       ...        ...      ...   \n101546   219.933594   88.0625   91.0625   86.0000   968.4171   101.27   \n101547  2135.371094  142.4375  153.4375  149.0625  2035.1171   124.77   \n101548  1460.875000  145.0000  155.4375  149.9375  1702.0944   133.84   \n101549   198.683594  106.0625  110.0625  103.7500   906.4364   110.94   \n101550    30.734375   93.1250   95.1250   88.3750   130.0675   100.15   \n\n        color22  color23  label  \n0         58.24    51.84  False  \n1         74.24    71.83   True  \n2         70.19    67.99   True  \n3         69.21    67.20   True  \n4         70.98    69.49   True  \n...         ...      ...    ...  \n101546   106.33   100.68  False  \n101547   133.52   129.08  False  \n101548   142.32   137.98  False  \n101549   115.88   110.36  False  \n101550   102.88    96.17  False  \n\n[101551 rows x 9 columns]",
      "text/html": "<div>\n<style scoped>\n    .dataframe tbody tr th:only-of-type {\n        vertical-align: middle;\n    }\n\n    .dataframe tbody tr th {\n        vertical-align: top;\n    }\n\n    .dataframe thead th {\n        text-align: right;\n    }\n</style>\n<table border=\"1\" class=\"dataframe\">\n  <thead>\n    <tr style=\"text-align: right;\">\n      <th></th>\n      <th>variance</th>\n      <th>color1</th>\n      <th>color2</th>\n      <th>color3</th>\n      <th>variance2</th>\n      <th>color21</th>\n      <th>color22</th>\n      <th>color23</th>\n      <th>label</th>\n    </tr>\n  </thead>\n  <tbody>\n    <tr>\n      <th>0</th>\n      <td>16.277344</td>\n      <td>73.1875</td>\n      <td>73.1875</td>\n      <td>65.1875</td>\n      <td>856.6224</td>\n      <td>58.24</td>\n      <td>58.24</td>\n      <td>51.84</td>\n      <td>False</td>\n    </tr>\n    <tr>\n      <th>1</th>\n      <td>17.937500</td>\n      <td>72.7500</td>\n      <td>73.2500</td>\n      <td>71.0000</td>\n      <td>31.4696</td>\n      <td>73.52</td>\n      <td>74.24</td>\n      <td>71.83</td>\n      <td>True</td>\n    </tr>\n    <tr>\n      <th>2</th>\n      <td>9.371094</td>\n      <td>69.4375</td>\n      <td>69.5625</td>\n      <td>67.1875</td>\n      <td>35.3459</td>\n      <td>69.79</td>\n      <td>70.19</td>\n      <td>67.99</td>\n      <td>True</td>\n    </tr>\n    <tr>\n      <th>3</th>\n      <td>18.714844</td>\n      <td>67.6875</td>\n      <td>68.0625</td>\n      <td>64.9375</td>\n      <td>26.9376</td>\n      <td>68.68</td>\n      <td>69.21</td>\n      <td>67.20</td>\n      <td>True</td>\n    </tr>\n    <tr>\n      <th>4</th>\n      <td>2.062500</td>\n      <td>70.2500</td>\n      <td>70.2500</td>\n      <td>69.2500</td>\n      <td>19.5675</td>\n      <td>70.55</td>\n      <td>70.98</td>\n      <td>69.49</td>\n      <td>True</td>\n    </tr>\n    <tr>\n      <th>...</th>\n      <td>...</td>\n      <td>...</td>\n      <td>...</td>\n      <td>...</td>\n      <td>...</td>\n      <td>...</td>\n      <td>...</td>\n      <td>...</td>\n      <td>...</td>\n    </tr>\n    <tr>\n      <th>101546</th>\n      <td>219.933594</td>\n      <td>88.0625</td>\n      <td>91.0625</td>\n      <td>86.0000</td>\n      <td>968.4171</td>\n      <td>101.27</td>\n      <td>106.33</td>\n      <td>100.68</td>\n      <td>False</td>\n    </tr>\n    <tr>\n      <th>101547</th>\n      <td>2135.371094</td>\n      <td>142.4375</td>\n      <td>153.4375</td>\n      <td>149.0625</td>\n      <td>2035.1171</td>\n      <td>124.77</td>\n      <td>133.52</td>\n      <td>129.08</td>\n      <td>False</td>\n    </tr>\n    <tr>\n      <th>101548</th>\n      <td>1460.875000</td>\n      <td>145.0000</td>\n      <td>155.4375</td>\n      <td>149.9375</td>\n      <td>1702.0944</td>\n      <td>133.84</td>\n      <td>142.32</td>\n      <td>137.98</td>\n      <td>False</td>\n    </tr>\n    <tr>\n      <th>101549</th>\n      <td>198.683594</td>\n      <td>106.0625</td>\n      <td>110.0625</td>\n      <td>103.7500</td>\n      <td>906.4364</td>\n      <td>110.94</td>\n      <td>115.88</td>\n      <td>110.36</td>\n      <td>False</td>\n    </tr>\n    <tr>\n      <th>101550</th>\n      <td>30.734375</td>\n      <td>93.1250</td>\n      <td>95.1250</td>\n      <td>88.3750</td>\n      <td>130.0675</td>\n      <td>100.15</td>\n      <td>102.88</td>\n      <td>96.17</td>\n      <td>False</td>\n    </tr>\n  </tbody>\n</table>\n<p>101551 rows × 9 columns</p>\n</div>"
     },
     "metadata": {},
     "execution_count": 26
    }
   ],
   "source": [
    "import os \n",
    "import pandas as pd\n",
    "\n",
    "directory = '/home/ds/Projects/satalite-image-water-body-finder/T2_data'\n",
    "for file in os.listdir(directory):\n",
    "    f = pd.read_csv(directory + '/' + file)\n",
    "    full = pd.DataFrame(columns = ['image_name', 'variance', 'color1', 'color2', 'color3','variance2','color21','color22','color23', 'label'])\n",
    "    full = full.append(f)\n",
    "\n",
    "full = full.iloc[:,1:-1]\n",
    "full\n",
    ""
   ]
  },
  {
   "cell_type": "code",
   "execution_count": 34,
   "metadata": {},
   "outputs": [],
   "source": [
    "X = full.drop('label', axis =1 )\n",
    "y = list(map(int, full['label'])) \n",
    "\n",
    "# check is ther are any missing values\n",
    "#print(X.isnull().values.any())\n",
    "#print(y.isnull().values.any())\n",
    ""
   ]
  },
  {
   "cell_type": "code",
   "execution_count": 38,
   "metadata": {},
   "outputs": [],
   "source": [
    "from sklearn.model_selection import train_test_split\n",
    "# implementing train-test-split\n",
    "X_train, X_test, y_train, y_test = train_test_split(X, y, test_size=0.33, random_state=66)"
   ]
  },
  {
   "cell_type": "code",
   "execution_count": 39,
   "metadata": {},
   "outputs": [],
   "source": [
    "from sklearn.ensemble import RandomForestClassifier\n",
    "# random forest model creation\n",
    "rfc = RandomForestClassifier()\n",
    "rfc.fit(X_train,y_train)\n",
    "\n",
    "#predictions\n",
    "rfc_predict = rfc.predict(X_test)"
   ]
  },
  {
   "cell_type": "code",
   "execution_count": 43,
   "metadata": {},
   "outputs": [],
   "source": [
    "from sklearn.model_selection import cross_val_score\n",
    "from sklearn.metrics import classification_report, confusion_matrix\n",
    "\n",
    "rfc_cv_score = cross_val_score(rfc, X, y, cv=5, scoring='roc_auc')"
   ]
  },
  {
   "cell_type": "code",
   "execution_count": 44,
   "metadata": {},
   "outputs": [
    {
     "output_type": "stream",
     "name": "stdout",
     "text": "=== Confusion Matrix ===\n[[16722    75]\n [  144 16571]]\n\n\n=== Classification Report ===\n              precision    recall  f1-score   support\n\n           0       0.99      1.00      0.99     16797\n           1       1.00      0.99      0.99     16715\n\n    accuracy                           0.99     33512\n   macro avg       0.99      0.99      0.99     33512\nweighted avg       0.99      0.99      0.99     33512\n\n\n\n=== All AUC Scores ===\n[0.99970617 0.99835947 0.9999875  0.99954904 0.99880998]\n\n\n=== Mean AUC Score ===\nMean AUC Score - Random Forest:  0.999282431972282\n"
    }
   ],
   "source": [
    "print(\"=== Confusion Matrix ===\")\n",
    "print(confusion_matrix(y_test, rfc_predict))\n",
    "print('\\n')\n",
    "print(\"=== Classification Report ===\")\n",
    "print(classification_report(y_test, rfc_predict))\n",
    "print('\\n')\n",
    "print(\"=== All AUC Scores ===\")\n",
    "print(rfc_cv_score)\n",
    "print('\\n')\n",
    "print(\"=== Mean AUC Score ===\")\n",
    "print(\"Mean AUC Score - Random Forest: \", rfc_cv_score.mean())"
   ]
  }
 ]
}