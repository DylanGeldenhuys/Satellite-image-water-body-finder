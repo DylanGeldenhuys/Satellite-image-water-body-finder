{
 "nbformat": 4,
 "nbformat_minor": 2,
 "metadata": {
  "language_info": {
   "name": "python",
   "codemirror_mode": {
    "name": "ipython",
    "version": 3
   },
   "version": "3.7.3-final"
  },
  "orig_nbformat": 2,
  "file_extension": ".py",
  "mimetype": "text/x-python",
  "name": "python",
  "npconvert_exporter": "python",
  "pygments_lexer": "ipython3",
  "version": 3,
  "kernelspec": {
   "name": "python37364bitenvvenv1fbaec788d9645b19f24f26402789eba",
   "display_name": "Python 3.7.3 64-bit ('env': venv)"
  }
 },
 "cells": [
  {
   "cell_type": "code",
   "execution_count": 1,
   "metadata": {},
   "outputs": [],
   "source": [
    "# 1 inputs: tifs, and masks\n",
    "# filter thru image in block; decide how big the block must be\n",
    "# for each block get windows; decide how many and what rezolution\n",
    "# get features from windows\n",
    "# add name of image and feature values to a row in new df\n",
    "\n",
    "\n",
    "# for each each row get name and open corresponding jpg \n",
    "# filter thru and add label column\n",
    "# to decide yes or no: if avg(inrensity)>0.5 / yes else no\n",
    "\n",
    "# Feature extractors\n",
    "\n",
    "def extract_variance(window):\n",
    "    data = window[:, :, 0]\n",
    "\n",
    "    shape = data.shape\n",
    "    return(np.var(data[0:shape[0], 0:shape[1]].flatten()))\n",
    "    \n",
    "def exract_colour(window):\n",
    "    return(window.mean(axis=0).mean(axis=0))\n",
    "    # returns shape (3,)\n",
    "\n",
    "def extract_label(mask_window):\n",
    "    mean = mask_window.mean(axis=0).mean(axis=0)[0]\n",
    "    return(mean < 127)\n",
    "\n",
    "def create_window(image,point,size):\n",
    "    off_centre = round(size/2)\n",
    "    window = image[ point[0]-off_centre : point[0] + off_centre, point[1]-off_centre : point[1] + off_centre]\n",
    "    return(window)\n",
    "     \n",
    "\n"
   ]
  },
  {
   "cell_type": "code",
   "execution_count": 39,
   "metadata": {},
   "outputs": [],
   "source": [
    "def create_training_sample(point, size, image, label, image_name):\n",
    "    window_1 = create_window(image,point,size)\n",
    "\n",
    "    variance = extract_variance(window_1)\n",
    "    color = exract_colour(window_1)\n",
    "\n",
    "    sample = [image_name, variance,color[0],color[1],color[2], label]\n",
    "    return sample"
   ]
  },
  {
   "cell_type": "code",
   "execution_count": 44,
   "metadata": {},
   "outputs": [
    {
     "output_type": "error",
     "ename": "AttributeError",
     "evalue": "'DatasetReader' object has no attribute 'image'",
     "traceback": [
      "\u001b[0;31m---------------------------------------------------------------------------\u001b[0m",
      "\u001b[0;31mAttributeError\u001b[0m                            Traceback (most recent call last)",
      "\u001b[0;32m<ipython-input-44-ad57358bd1b8>\u001b[0m in \u001b[0;36m<module>\u001b[0;34m\u001b[0m\n\u001b[1;32m      1\u001b[0m \u001b[0mimg\u001b[0m \u001b[0;34m=\u001b[0m \u001b[0mrasterio\u001b[0m\u001b[0;34m.\u001b[0m\u001b[0mopen\u001b[0m\u001b[0;34m(\u001b[0m\u001b[0;34m'/home/ds/Projects/satalite-image-water-body-finder/masks/2529CC09.jpg'\u001b[0m\u001b[0;34m)\u001b[0m\u001b[0;34m\u001b[0m\u001b[0;34m\u001b[0m\u001b[0m\n\u001b[1;32m      2\u001b[0m \u001b[0;34m\u001b[0m\u001b[0m\n\u001b[0;32m----> 3\u001b[0;31m \u001b[0mprint\u001b[0m\u001b[0;34m(\u001b[0m\u001b[0mimg\u001b[0m\u001b[0;34m.\u001b[0m\u001b[0mimage\u001b[0m\u001b[0;34m)\u001b[0m\u001b[0;34m\u001b[0m\u001b[0;34m\u001b[0m\u001b[0m\n\u001b[0m",
      "\u001b[0;31mAttributeError\u001b[0m: 'DatasetReader' object has no attribute 'image'"
     ]
    }
   ],
   "source": [
    "from PIL import Image\n",
    "\n",
    "img = Image.open('/home/ds/Projects/satalite-image-water-body-finder/Jupyter/2529CC09.tif')"
   ]
  },
  {
   "cell_type": "code",
   "execution_count": 42,
   "metadata": {},
   "outputs": [
    {
     "output_type": "execute_result",
     "data": {
      "text/plain": "name', 14881.37109375, 128.5625, 128.5625, 128.5625, False],\n ['image_name', 22.65234375, 251.1875, 251.1875, 251.1875, False],\n ['image_name', 46.40234375, 251.1875, 251.1875, 251.1875, False],\n ['image_name', 13293.30859375, 80.9375, 80.9375, 80.9375, True],\n ['image_name', 9403.234375, 205.625, 205.625, 205.625, False],\n ['image_name', 3.75, 254.5, 254.5, 254.5, False],\n ['image_name', 0.0, 255.0, 255.0, 255.0, False],\n ['image_name', 0.0, 255.0, 255.0, 255.0, False],\n ['image_name', 0.0, 255.0, 255.0, 255.0, False],\n ['image_name', 0.0, 255.0, 255.0, 255.0, False],\n ['image_name', 0.0, 255.0, 255.0, 255.0, False],\n ['image_name', 0.0, 255.0, 255.0, 255.0, False],\n ['image_name', 0.0, 255.0, 255.0, 255.0, False],\n ['image_name', 0.0, 255.0, 255.0, 255.0, False],\n ['image_name', 0.0, 255.0, 255.0, 255.0, False],\n ['image_name', 0.0, 255.0, 255.0, 255.0, False],\n ['image_name', 0.0, 255.0, 255.0, 255.0, False],\n ['image_name', 0.0, 255.0, 255.0, 255.0, False],\n ['image_name', 0.0, 255.0, 255.0, 255.0, False],\n ['image_name', 0.0, 255.0, 255.0, 255.0, False],\n ['image_name', 0.0, 255.0, 255.0, 255.0, False],\n ['image_name', 0.0, 255.0, 255.0, 255.0, False],\n ['image_name', 0.0, 255.0, 255.0, 255.0, False],\n ['image_name', 0.0, 255.0, 255.0, 255.0, False],\n ['image_name', 0.0, 255.0, 255.0, 255.0, False],\n ['image_name', 0.0, 255.0, 255.0, 255.0, False],\n ['image_name', 0.0, 255.0, 255.0, 255.0, False],\n ['image_name', 0.0, 255.0, 255.0, 255.0, False],\n ['image_name', 14546.05859375, 94.0625, 94.0625, 94.0625, True],\n ['image_name', 0.0, 0.0, 0.0, 0.0, True],\n ['image_name', 0.05859375, 0.0625, 0.0625, 0.0625, True],\n ['image_name', 3.58984375, 0.6875, 0.6875, 0.6875, True],\n ['image_name', 21.609375, 1.625, 1.625, 1.625, True],\n ['image_name', 15948.4375, 126.25, 126.25, 126.25, True],\n ['image_name', 15.484375, 252.875, 252.875, 252.875, False],\n ['image_name', 10.609375, 253.125, 253.125, 253.125, False],\n ['image_name', 15555.984375, 110.625, 110.625, 110.625, True],\n ['image_name', 13.18359375, 0.9375, 0.9375, 0.9375, True],\n ['image_name', 0.0, 0.0, 0.0, 0.0, True],\n ['image_name', 0.0, 0.0, 0.0, 0.0, True],\n ['image_name', 0.0, 0.0, 0.0, 0.0, True],\n ['image_name', 9.90234375, 0.8125, 0.8125, 0.8125, True],\n ['image_name', 5.9375, 0.75, 0.75, 0.75, True],\n ['image_name', 9484.87109375, 202.5625, 202.5625, 202.5625, False],\n ['image_name', 12.6875, 251.75, 251.75, 251.75, False],\n ['image_name', 6.75, 253.0, 253.0, 253.0, False],\n ['image_name', 24.625, 251.5, 251.5, 251.5, False],\n ['image_name', 14198.234375, 95.625, 95.625, 95.625, True],\n ['image_name', 18.25, 3.0, 3.0, 3.0, True],\n ['image_name', 13.484375, 1.625, 1.625, 1.625, True],\n ['image_name', 0.0, 0.0, 0.0, 0.0, True],\n ['image_name', 0.0, 0.0, 0.0, 0.0, True],\n ['image_name', 0.0, 0.0, 0.0, 0.0, True],\n ['image_name', 0.0, 0.0, 0.0, 0.0, True],\n ['image_name', 0.0, 0.0, 0.0, 0.0, True],\n ['image_name', 0.0, 0.0, 0.0, 0.0, True],\n ['image_name', 0.0, 0.0, 0.0, 0.0, True],\n ['image_name', 0.0, 0.0, 0.0, 0.0, True],\n ['image_name', 0.0, 0.0, 0.0, 0.0, True],\n ['image_name', 0.0, 0.0, 0.0, 0.0, True],\n ['image_name', 0.0, 0.0, 0.0, 0.0, True],\n ['image_name', 0.0, 0.0, 0.0, 0.0, True],\n ['image_name', 11.484375, 0.875, 0.875, 0.875, True],\n ['image_name', 3.234375, 0.625, 0.625, 0.625, True],\n ['image_name', 11559.27734375, 66.1875, 66.1875, 66.1875, True],\n ['image_name', 31.9375, 250.25, 250.25, 250.25, False],\n ['image_name', 4.49609375, 253.4375, 253.4375, 253.4375, False],\n ['image_name', 13098.234375, 176.375, 176.375, 176.375, False],\n ['image_name', 9429.984375, 49.875, 49.875, 49.875, True],\n ['image_name', 57.46484375, 249.3125, 249.3125, 249.3125, False],\n ['image_name', 8.984375, 253.875, 253.875, 253.875, False],\n ['image_name', 3.21484375, 254.3125, 254.3125, 254.3125, False],\n ['image_name', 4.4375, 254.25, 254.25, 254.25, False],\n ['image_name', 7.93359375, 253.9375, 253.9375, 253.9375, False],\n ['image_name', 9.90234375, 254.1875, 254.1875, 254.1875, False],\n ['image_name', 1.49609375, 254.4375, 254.4375, 254.4375, False],\n ['image_name', 7.08984375, 254.3125, 254.3125, 254.3125, False],\n ['image_name', 0.0, 255.0, 255.0, 255.0, False],\n ['image_name', 0.0, 255.0, 255.0, 255.0, False],\n ['image_name', 0.0, 255.0, 255.0, 255.0, False],\n ['image_name', 0.0, 255.0, 255.0, 255.0, False],\n ['image_name', 0.0, 255.0, 255.0, 255.0, False],\n ['image_name', 0.0, 255.0, 255.0, 255.0, False],\n ['image_name', 0.0, 255.0, 255.0, 255.0, False],\n ['image_name', 0.0, 255.0, 255.0, 255.0, False],\n ['image_name', 0.0, 255.0, 255.0, 255.0, False],\n ['image_name', 0.0, 255.0, 255.0, 255.0, False],\n ['image_name', 0.0, 255.0, 255.0, 255.0, False],\n ['image_name', 0.0, 255.0, 255.0, 255.0, False],\n ['image_name', 0.0, 255.0, 255.0, 255.0, False],\n ['image_name', 0.0, 255.0, 255.0, 255.0, False],\n ['image_name', 0.0, 255.0, 255.0, 255.0, False],\n ['image_name', 8679.30859375, 50.9375, 50.9375, 50.9375, True],\n ['image_name', 11722.68359375, 65.0625, 65.0625, 65.0625, True],\n ['image_name', 30.87109375, 2.5625, 2.5625, 2.5625, True],\n ['image_name', 0.0, 0.0, 0.0, 0.0, True],\n ['image_name', 17.40234375, 2.1875, 2.1875, 2.1875, True],\n ['image_name', 67.40234375, 4.1875, 4.1875, 4.1875, True],\n ['image_name', 14579.375, 95.5, 95.5, 95.5, True],\n ['image_name', 3784.05859375, 238.0625, 238.0625, 238.0625, False],\n ['image_name', 0.0, 255.0, 255.0, 255.0, False],\n ['image_name', 0.0, 255.0, 255.0, 255.0, False],\n ['image_name', 0.9375, 254.75, 254.75, 254.75, False],\n ['image_name', 14781.109375, 96.375, 96.375, 96.375, True],\n ['image_name', 3.74609375, 0.5625, 0.5625, 0.5625, True],\n ['image_name', 0.0, 0.0, 0.0, 0.0, True],\n ['image_name', 0.0, 0.0, 0.0, 0.0, True],\n ['image_name', 3.125, 1.0, 1.0, 1.0, True],\n ['image_name', 23.484375, 3.625, 3.625, 3.625, True],\n ['image_name', 3742.96484375, 236.3125, 236.3125, 236.3125, False],\n ['image_name', 18.58984375, 252.3125, 252.3125, 252.3125, False],\n ['image_name', 3743.1875, 235.75, 235.75, 235.75, False],\n ['image_name', 9420.77734375, 50.8125, 50.8125, 50.8125, True],\n ['image_name', 45.33984375, 3.6875, 3.6875, 3.6875, True],\n ['image_name', 0.0, 0.0, 0.0, 0.0, True],\n ['image_name', 0.0, 0.0, 0.0, 0.0, True],\n ['image_name', 0.0, 0.0, 0.0, 0.0, True],\n ['image_name', 0.0, 0.0, 0.0, 0.0, True],\n ['image_name', 0.0, 0.0, 0.0, 0.0, True],\n ['image_name', 0.0, 0.0, 0.0, 0.0, True],\n ['image_name', 0.0, 0.0, 0.0, 0.0, True],\n ['image_name', 0.0, 0.0, 0.0, 0.0, True],\n ['image_name', 0.0, 0.0, 0.0, 0.0, True],\n ['image_name', 0.0, 0.0, 0.0, 0.0, True],\n ['image_name', 0.0, 0.0, 0.0, 0.0, True],\n ['image_name', 0.0, 0.0, 0.0, 0.0, True],\n ['image_name', 0.0, 0.0, 0.0, 0.0, True],\n ['image_name', 0.0, 0.0, 0.0, 0.0, True],\n ['image_name', 20.984375, 2.875, 2.875, 2.875, True],\n ['image_name', 3652.875, 18.5, 18.5, 18.5, True],\n ['image_name', 24.625, 252.0, 252.0, 252.0, False],\n ['image_name', 13.0, 253.0, 253.0, 253.0, False],\n ['image_name', 0.0, 255.0, 255.0, 255.0, False],\n ['image_name', 13088.5625, 81.75, 81.75, 81.75, True],\n ['image_name', 11.859375, 2.625, 2.625, 2.625, True],\n ['image_name', 15235.484375, 128.625, 128.625, 128.625, False],\n ['image_name', 40.46484375, 251.3125, 251.3125, 251.3125, False],\n ['image_name', 15.74609375, 251.5625, 251.5625, 251.5625, False],\n ['image_name', 14633.15234375, 97.8125, 97.8125, 97.8125, True],\n ['image_name', 9517.40234375, 50.8125, 50.8125, 50.8125, True],\n ['image_name', 15132.1875, 128.25, 128.25, 128.25, False],\n ['image_name', 54.40234375, 250.1875, 250.1875, 250.1875, False],\n ['image_name', 11.0, 252.5, 252.5, 252.5, False],\n ['image_name', 0.0, 255.0, 255.0, 255.0, False],\n ['image_name', 0.0, 255.0, 255.0, 255.0, False],\n ['image_name', 0.0, 255.0, 255.0, 255.0, False],\n ['image_name', 0.0, 255.0, 255.0, 255.0, False],\n ['image_name', 0.0, 255.0, 255.0, 255.0, False],\n ['image_name', 0.0, 255.0, 255.0, 255.0, False],\n ['image_name', 0.0, 255.0, 255.0, 255.0, False],\n ['image_name', 0.0, 255.0, 255.0, 255.0, False],\n ['image_name', 0.0, 255.0, 255.0, 255.0, False],\n ['image_name', 0.0, 255.0, 255.0, 255.0, False],\n ['image_name', 0.0, 255.0, 255.0, 255.0, False],\n ['image_name', 0.0, 255.0, 255.0, 255.0, False],\n ['image_name', 0.0, 255.0, 255.0, 255.0, False],\n ['image_name', 0.0, 255.0, 255.0, 255.0, False],\n ['image_name', 0.0, 255.0, 255.0, 255.0, False],\n ['image_name', 0.0, 255.0, 255.0, 255.0, False],\n ['image_name', 0.0, 255.0, 255.0, 255.0, False],\n ['image_name', 0.0, 255.0, 255.0, 255.0, False],\n ['image_name', 0.0, 255.0, 255.0, 255.0, False],\n ['image_name', 3718.24609375, 19.4375, 19.4375, 19.4375, True],\n ['image_name', 27.734375, 3.625, 3.625, 3.625, True],\n ['image_name', 22.02734375, 3.1875, 3.1875, 3.1875, True],\n ['image_name', 4.96484375, 1.6875, 1.6875, 1.6875, True],\n ['image_name', 13368.234375, 82.875, 82.875, 82.875, True],\n ['image_name', 24.12109375, 251.4375, 251.4375, 251.4375, False],\n ['image_name', 3.33984375, 254.3125, 254.3125, 254.3125, False],\n ['image_name', 0.52734375, 254.8125, 254.8125, 254.8125, False],\n ['image_name', 0.0, 255.0, 255.0, 255.0, False],\n ['image_name', 0.0, 255.0, 255.0, 255.0, False],\n ['image_name', 13569.109375, 79.875, 79.875, 79.875, True],\n ['image_name', 13509.5625, 80.25, 80.25, 80.25, True],\n ['image_name', 15640.484375, 127.875, 127.875, 127.875, False],\n ['image_name', 6867.18359375, 218.9375, 218.9375, 218.9375, False],\n ['image_name', 11880.33984375, 66.3125, 66.3125, 66.3125, True],\n ['image_name', 5.484375, 0.875, 0.875, 0.875, True],\n ['image_name', 1.109375, 0.375, 0.375, 0.375, True],\n ['image_name', 0.0, 0.0, 0.0, 0.0, True],\n ['image_name', 0.0, 0.0, 0.0, 0.0, True],\n ['image_name', 0.0, 0.0, 0.0, 0.0, True],\n ['image_name', 0.0, 0.0, 0.0, 0.0, True],\n ['image_name', 0.0, 0.0, 0.0, 0.0, True],\n ['image_name', 0.0, 0.0, 0.0, 0.0, True],\n ['image_name', 0.0, 0.0, 0.0, 0.0, True],\n ['image_name', 0.0, 0.0, 0.0, 0.0, True],\n ['image_name', 0.0, 0.0, 0.0, 0.0, True],\n ['image_name', 0.0, 0.0, 0.0, 0.0, True],\n ['image_name', 0.0, 0.0, 0.0, 0.0, True],\n ['image_name', 0.0, 0.0, 0.0, 0.0, True],\n ['image_name', 0.0, 0.0, 0.0, 0.0, True],\n ['image_name', 0.0, 0.0, 0.0, 0.0, True],\n ['image_name', 23.80859375, 2.9375, 2.9375, 2.9375, True],\n ['image_name', 3527.55859375, 236.0625, 236.0625, 236.0625, False],\n ['image_name', 3.234375, 254.375, 254.375, 254.375, False],\n ['image_name', 11.484375, 254.125, 254.125, 254.125, False],\n ['image_name', 0.0, 255.0, 255.0, 255.0, False],\n ['image_name', 11727.65234375, 65.8125, 65.8125, 65.8125, True],\n ['image_name', 18.0, 3.0, 3.0, 3.0, True],\n ['image_name', 6.40234375, 1.1875, 1.1875, 1.1875, True],\n ['image_name', 9.5625, 1.25, 1.25, 1.25, True],\n ['image_name', 9628.359375, 47.125, 47.125, 47.125, True],\n ['image_name', 17.734375, 1.375, 1.375, 1.375, True],\n ['image_name', 4.68359375, 0.9375, 0.9375, 0.9375, True],\n ['image_name', 5.90234375, 0.8125, 0.8125, 0.8125, True],\n ['image_name', 9141.05859375, 50.0625, 50.0625, 50.0625, True],\n ['image_name', 48.484375, 250.375, 250.375, 250.375, False],\n ['image_name', 19.30859375, 251.9375, 251.9375, 251.9375, False],\n ['image_name', 7.08984375, 254.3125, 254.3125, 254.3125, False],\n ['image_name', 0.0, 255.0, 255.0, 255.0, False],\n ['image_name', 0.0, 255.0, 255.0, 255.0, False],\n ['image_name', 0.0, 255.0, 255.0, 255.0, False],\n ['image_name', 0.0, 255.0, 255.0, 255.0, False],\n ['image_name', 0.0, 255.0, 255.0, 255.0, False],\n ['image_name', 0.0, 255.0, 255.0, 255.0, False],\n ['image_name', 0.0, 255.0, 255.0, 255.0, False],\n ['image_name', 0.0, 255.0, 255.0, 255.0, False],\n ['image_name', 0.0, 255.0, 255.0, 255.0, False],\n ['image_name', 0.0, 255.0, 255.0, 255.0, False],\n ['image_name', 0.0, 255.0, 255.0, 255.0, False],\n ['image_name', 0.0, 255.0, 255.0, 255.0, False],\n ['image_name', 0.0, 255.0, 255.0, 255.0, False],\n ['image_name', 0.0, 255.0, 255.0, 255.0, False],\n ['image_name', 0.0, 255.0, 255.0, 255.0, False],\n ['image_name', 0.0, 255.0, 255.0, 255.0, False],\n ['image_name', 0.0, 255.0, 255.0, 255.0, False],\n ['image_name', 0.0, 255.0, 255.0, 255.0, False],\n ['image_name', 0.0, 255.0, 255.0, 255.0, False],\n ['image_name', 0.0, 255.0, 255.0, 255.0, False],\n ['image_name', 3327.99609375, 19.4375, 19.4375, 19.4375, True],\n ['image_name', 30.83984375, 3.6875, 3.6875, 3.6875, True],\n ['image_name', 27.359375, 4.125, 4.125, 4.125, True],\n ['image_name', 9185.75, 205.5, 205.5, 205.5, False],\n ['image_name', 58.859375, 249.625, 249.625, 249.625, False],\n ['image_name', 0.0, 255.0, 255.0, 255.0, False],\n ['image_name', 15.62109375, 3.5625, 3.5625, 3.5625, True],\n ['image_name', 16.93359375, 1.0625, 1.0625, 1.0625, True],\n ['image_name', 0.0, 0.0, 0.0, 0.0, True],\n ['image_name', 0.0, 0.0, 0.0, 0.0, True],\n ['image_name', 0.0, 0.0, 0.0, 0.0, True],\n ['image_name', 0.0, 0.0, 0.0, 0.0, True],\n ['image_name', 0.0, 0.0, 0.0, 0.0, True],\n ['image_name', 0.0, 0.0, 0.0, 0.0, True],\n ['image_name', 0.0, 0.0, 0.0, 0.0, True],\n ['image_name', 0.0, 0.0, 0.0, 0.0, True],\n ['image_name', 0.0, 0.0, 0.0, 0.0, True],\n ['image_name', 0.0, 0.0, 0.0, 0.0, True],\n ['image_name', 0.0, 0.0, 0.0, 0.0, True],\n ['image_name', 0.0, 0.0, 0.0, 0.0, True],\n ['image_name', 0.0, 0.0, 0.0, 0.0, True],\n ['image_name', 0.0, 0.0, 0.0, 0.0, True],\n ['image_name', 0.0, 0.0, 0.0, 0.0, True],\n ['image_name', 6.234375, 1.625, 1.625, 1.625, True],\n ['image_name', 11401.68359375, 188.0625, 188.0625, 188.0625, False],\n ['image_name', 0.0, 255.0, 255.0, 255.0, False],\n ['image_name', 0.0, 255.0, 255.0, 255.0, False],\n ['image_name', 0.0, 255.0, 255.0, 255.0, False],\n ['image_name', 13.734375, 3.625, 3.625, 3.625, True],\n ['image_name', 11.96484375, 2.6875, 2.6875, 2.6875, True],\n ['image_name', 0.0, 0.0, 0.0, 0.0, True],\n ['image_name', 0.0, 0.0, 0.0, 0.0, True],\n ['image_name', 0.0, 0.0, 0.0, 0.0, True],\n ['image_name', 0.0, 0.0, 0.0, 0.0, True],\n ['image_name', 0.0, 0.0, 0.0, 0.0, True],\n ['image_name', 0.0, 0.0, 0.0, 0.0, True],\n ['image_name', 17.0625, 2.25, 2.25, 2.25, True],\n ['image_name', 9397.3125, 49.75, 49.75, 49.75, True],\n ['image_name', 46.05859375, 250.0625, 250.0625, 250.0625, False],\n ['image_name', 6.375, 254.0, 254.0, 254.0, False],\n ['image_name', 0.0, 255.0, 255.0, 255.0, False],\n ['image_name', 0.0, 255.0, 255.0, 255.0, False],\n ['image_name', 0.0, 255.0, 255.0, 255.0, False],\n ['image_name', 0.0, 255.0, 255.0, 255.0, False],\n ['image_name', 0.0, 255.0, 255.0, 255.0, False],\n ['image_name', 0.0, 255.0, 255.0, 255.0, False],\n ['image_name', 0.0, 255.0, 255.0, 255.0, False],\n ['image_name', 0.0, 255.0, 255.0, 255.0, False],\n ['image_name', 0.0, 255.0, 255.0, 255.0, False],\n ['image_name', 0.0, 255.0, 255.0, 255.0, False],\n ['image_name', 0.0, 255.0, 255.0, 255.0, False],\n ['image_name', 0.0, 255.0, 255.0, 255.0, False],\n ['image_name', 0.0, 255.0, 255.0, 255.0, False],\n ['image_name', 0.0, 255.0, 255.0, 255.0, False],\n ['image_name', 0.0, 255.0, 255.0, 255.0, False],\n ['image_name', 0.0, 255.0, 255.0, 255.0, False],\n ['image_name', 0.0, 255.0, 255.0, 255.0, False],\n ['image_name', 0.0, 255.0, 255.0, 255.0, False],\n ['image_name', 0.0, 255.0, 255.0, 255.0, False],\n ['image_name', 0.0, 255.0, 255.0, 255.0, False],\n ['image_name', 0.0, 255.0, 255.0, 255.0, False],\n ['image_name', 0.0, 255.0, 255.0, 255.0, False],\n ['image_name', 14543.80859375, 96.9375, 96.9375, 96.9375, True],\n ['image_name', 9.96484375, 2.6875, 2.6875, 2.6875, True],\n ['image_name', 38.234375, 3.125, 3.125, 3.125, True],\n ['image_name', 9453.609375, 203.125, 203.125, 203.125, False],\n ['image_name', 21.8125, 252.25, 252.25, 252.25, False],\n ['image_name', 0.0, 255.0, 255.0, 255.0, False],\n ['image_name', 36.55859375, 4.0625, 4.0625, 4.0625, True],\n ['image_name', 9.0, 1.0, 1.0, 1.0, True],\n ['image_name', 0.0, 0.0, 0.0, 0.0, True],\n ['image_name', 0.0, 0.0, 0.0, 0.0, True],\n ['image_name', 3526.74609375, 17.5625, 17.5625, 17.5625, True],\n ['image_name', 11304.21484375, 64.3125, 64.3125, 64.3125, True],\n ['image_name', 20.375, 3.0, 3.0, 3.0, True],\n ['image_name', 37.71484375, 4.6875, 4.6875, 4.6875, True],\n ['image_name', 0.0, 0.0, 0.0, 0.0, True],\n ['image_name', 0.0, 0.0, 0.0, 0.0, True],\n ['image_name', 0.0, 0.0, 0.0, 0.0, True],\n ['image_name', 0.0, 0.0, 0.0, 0.0, True],\n ['image_name', 0.0, 0.0, 0.0, 0.0, True],\n ['image_name', 0.0, 0.0, 0.0, 0.0, True],\n ['image_name', 0.0, 0.0, 0.0, 0.0, True],\n ['image_name', 0.0, 0.0, 0.0, 0.0, True],\n ['image_name', 0.0, 0.0, 0.0, 0.0, True],\n ['image_name', 12.484375, 2.125, 2.125, 2.125, True],\n ['image_name', 12929.109375, 79.875, 79.875, 79.875, True],\n ['image_name', 0.0, 255.0, 255.0, 255.0, False],\n ['image_name', 45.3125, 252.25, 252.25, 252.25, False],\n ['image_name', 3515.87109375, 233.5625, 233.5625, 233.5625, False],\n ['image_name', 0.0, 0.0, 0.0, 0.0, True],\n ['image_name', 0.0, 0.0, 0.0, 0.0, True],\n ['image_name', 0.0, 0.0, 0.0, 0.0, True],\n ['image_name', 0.0, 0.0, 0.0, 0.0, True],\n ['image_name', 0.0, 0.0, 0.0, 0.0, True],\n ['image_name', 0.0, 0.0, 0.0, 0.0, True],\n ['image_name', 0.0, 0.0, 0.0, 0.0, True],\n ['image_name', 0.0, 0.0, 0.0, 0.0, True],\n ['image_name', 0.0, 0.0, 0.0, 0.0, True],\n ['image_name', 4.0625, 0.75, 0.75, 0.75, True],\n ['image_name', 9076.1875, 49.25, 49.25, 49.25, True],\n ['image_name', 9.43359375, 253.9375, 253.9375, 253.9375, False],\n ['image_name', 0.0, 255.0, 255.0, 255.0, False],\n ['image_name', 0.0, 255.0, 255.0, 255.0, False],\n ['image_name', 0.0, 255.0, 255.0, 255.0, False],\n ['image_name', 0.0, 255.0, 255.0, 255.0, False],\n ['image_name', 0.0, 255.0, 255.0, 255.0, False],\n ['image_name', 0.0, 255.0, 255.0, 255.0, False],\n ['image_name', 0.0, 255.0, 255.0, 255.0, False],\n ['image_name', 0.0, 255.0, 255.0, 255.0, False],\n ['image_name', 0.0, 255.0, 255.0, 255.0, False],\n ['image_name', 0.0, 255.0, 255.0, 255.0, False],\n ['image_name', 0.0, 255.0, 255.0, 255.0, False],\n ['image_name', 0.0, 255.0, 255.0, 255.0, False],\n ['image_name', 0.0, 255.0, 255.0, 255.0, False],\n ['image_name', 0.0, 255.0, 255.0, 255.0, False],\n ['image_name', 0.0, 255.0, 255.0, 255.0, False],\n ['image_name', 0.0, 255.0, 255.0, 255.0, False],\n ['image_name', 0.0, 255.0, 255.0, 255.0, False],\n ['image_name', 0.0, 255.0, 255.0, 255.0, False],\n ['image_name', 0.0, 255.0, 255.0, 255.0, False],\n ['image_name', 0.0, 255.0, 255.0, 255.0, False],\n ['image_name', 0.0, 255.0, 255.0, 255.0, False],\n ['image_name', 0.0, 255.0, 255.0, 255.0, False],\n ['image_name', 0.0, 255.0, 255.0, 255.0, False],\n ['image_name', 0.0, 255.0, 255.0, 255.0, False],\n ['image_name', 0.0, 255.0, 255.0, 255.0, False],\n ['image_name', 0.0, 255.0, 255.0, 255.0, False],\n ['image_name', 29.52734375, 2.8125, 2.8125, 2.8125, True],\n ['image_name', 20.859375, 2.625, 2.625, 2.625, True],\n ['image_name', 3.05859375, 0.9375, 0.9375, 0.9375, True],\n ['image_name', 3692.1875, 16.75, 16.75, 16.75, True],\n ['image_name', 6995.609375, 220.875, 220.875, 220.875, False],\n ['image_name', 0.0, 255.0, 255.0, 255.0, False],\n ['image_name', 7.08984375, 254.3125, 254.3125, 254.3125, False],\n ['image_name', 3.80859375, 254.0625, 254.0625, 254.0625, False],\n ['image_name', 9490.859375, 48.375, 48.375, 48.375, True],\n ['image_name', 31.30859375, 2.9375, 2.9375, 2.9375, True],\n ['image_name', 14062.49609375, 95.4375, 95.4375, 95.4375, True],\n ['image_name', 3638.734375, 234.125, 234.125, 234.125, False],\n ['image_name', 2.8125, 254.25, 254.25, 254.25, False],\n ['image_name', 4.984375, 254.125, 254.125, 254.125, False],\n ['image_name', 3752.484375, 18.125, 18.125, 18.125, True],\n ['image_name', 10.71484375, 2.6875, 2.6875, 2.6875, True],\n ['image_name', 35.234375, 3.375, 3.375, 3.375, True],\n ['image_name', 24.875, 3.0, 3.0, 3.0, True],\n ['image_name', 19.37109375, 2.5625, 2.5625, 2.5625, True],\n ['image_name', 14987.77734375, 158.1875, 158.1875, 158.1875, False],\n ['image_name', 13.65234375, 253.8125, 253.8125, 253.8125, False],\n ['image_name', 16.109375, 252.375, 252.375, 252.375, False],\n ['image_name', 26.359375, 3.625, 3.625, 3.625, True],\n ...]"
     },
     "metadata": {},
     "execution_count": 42
    }
   ],
   "source": [
    "import cv2\n",
    "import matplotlib.pyplot as plt\n",
    "import numpy as np\n",
    "from PIL import Image\n",
    "import rasterio\n",
    "\n",
    "img = cv2.imread('/home/ds/Projects/satalite-image-water-body-finder/masks/2529CC09.jpg')\n",
    "#img2 = rasterio.open('/home/ds/Projects/satalite-image-water-body-finder/Jupyter/2529CC09.tif')\n",
    "\n",
    "#img2 = Image.open('/home/ds/Projects/satalite-image-water-body-finder/Jupyter/2529CC09.tif')\n",
    "data = img\n",
    "#data_mask = img[0:200,0:200]\n",
    "#data = create_window(img, [10,10], 5)\n",
    "#plt.imshow(data)\n",
    "#data\n",
    "#plt.show()\n",
    "#create_training_sample([100,100], 4, data, data, \"image_name\")\n",
    "create_data_image(5, data, data, \"image_name\")"
   ]
  },
  {
   "cell_type": "code",
   "execution_count": 41,
   "metadata": {},
   "outputs": [],
   "source": [
    "def create_data_image(size, image, mask, image_name):\n",
    "    height = int(len(data) / size) - 1\n",
    "    width = int(len(data[1]) / size) - 1\n",
    "\n",
    "    data_set = []\n",
    "\n",
    "    offset = round(size/2)\n",
    "\n",
    "    yes = 0\n",
    "    no = 0\n",
    "\n",
    "    for j in range(height):\n",
    "        for i in range(width):\n",
    "            y = j * size + offset\n",
    "            x = i * size + offset\n",
    "            \n",
    "            label_window = create_window(mask, [x,y], size)\n",
    "            label = extract_label(label_window)\n",
    "\n",
    "            if (label):\n",
    "                yes += 1\n",
    "                data_set.append(create_training_sample([x,y], size, image, label, image_name))\n",
    "            elif(yes >= no):\n",
    "                no += 1\n",
    "                data_set.append(create_training_sample([x,y], size, image, label, image_name))\n",
    "\n",
    "    return(data_set)"
   ]
  }
 ]
}