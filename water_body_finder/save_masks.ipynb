{
 "nbformat": 4,
 "nbformat_minor": 2,
 "metadata": {
  "language_info": {
   "name": "python",
   "codemirror_mode": {
    "name": "ipython",
    "version": 3
   },
   "version": "3.7.3-final"
  },
  "orig_nbformat": 2,
  "file_extension": ".py",
  "mimetype": "text/x-python",
  "name": "python",
  "npconvert_exporter": "python",
  "pygments_lexer": "ipython3",
  "version": 3,
  "kernelspec": {
   "name": "python37364bitenvvenv1fbaec788d9645b19f24f26402789eba",
   "display_name": "Python 3.7.3 64-bit ('env': venv)"
  }
 },
 "cells": [
  {
   "cell_type": "code",
   "execution_count": 3,
   "metadata": {},
   "outputs": [],
   "source": [
    "import os\n",
    "import json\n",
    "import rasterio\n",
    "import matplotlib.pyplot as plt\n",
    "from createMask import create_mask\n",
    "from PIL import Image\n",
    "\n",
    "directory = \"/media/ds/New Volume/Waterbody_Project\"\n",
    "\n",
    "for filename in os.listdir(directory + \"/geojsons\"):\n",
    "    #Load files\n",
    "    with open(directory + \"/geojsons/\" + filename) as f:\n",
    "        geo_data = json.load(f)\n",
    "\n",
    "    image_data = rasterio.open(directory + \"/Tiffs/\" + filename[0:-8] + '.tif')\n",
    "\n",
    "    mask = create_mask(image_data, geo_data)\n",
    "    Image_mask = Image. fromarray(mask) \n",
    "    Image_mask.save('/home/ds/Projects/satalite-image-water-body-finder/masks/{}.jpg'.format(filename[0:-8]),'JPEG')"
   ]
  },
  {
   "cell_type": "code",
   "execution_count": 2,
   "metadata": {},
   "outputs": [],
   "source": [
    "#Load files\n",
    "with open(\"../Jupyter/2628BD10.geojson\") as f:\n",
    "    data = json.load(f)\n",
    "\n",
    "dataset = rasterio.open('../Jupyter/2628BD10.tif')"
   ]
  }
 ]
}