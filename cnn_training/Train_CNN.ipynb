{
 "nbformat": 4,
 "nbformat_minor": 2,
 "metadata": {
  "language_info": {
   "name": "python",
   "codemirror_mode": {
    "name": "ipython",
    "version": 3
   },
   "version": "3.7.3-final"
  },
  "orig_nbformat": 2,
  "file_extension": ".py",
  "mimetype": "text/x-python",
  "name": "python",
  "npconvert_exporter": "python",
  "pygments_lexer": "ipython3",
  "version": 3,
  "kernelspec": {
   "name": "python37364bitenvwaterbodyvenv4e99300baf4b4c70b463ca78bdb0f815",
   "display_name": "Python 3.7.3 64-bit ('env_waterbody': venv)"
  }
 },
 "cells": [
  {
   "cell_type": "code",
   "execution_count": 2,
   "metadata": {},
   "outputs": [],
   "source": [
    "import os\n",
    "import pandas as  pd \n",
    "import gc\n",
    "import numpy as np\n",
    "import random\n",
    "from pathlib import Path\n",
    "import matplotlib.pyplot as plt\n",
    "\n",
    "water_body_dir = Path('/media/ds/New Volume/Waterbody_Project/CNN_data/water_body1')\n",
    "no_water_body_dir = Path('/media/ds/New Volume/Waterbody_Project/CNN_data/no_water_body1')\n",
    ""
   ]
  },
  {
   "cell_type": "code",
   "execution_count": 3,
   "metadata": {},
   "outputs": [],
   "source": [
    "water_body_l = os.listdir(water_body_dir)\n",
    "no_water_body_l = os.listdir(no_water_body_dir)\n",
    "no_water_body_dir_len = len(os.listdir(no_water_body_dir))\n",
    "water_body_samples = random.sample(water_body_l,no_water_body_dir_len)\n",
    "\n",
    ""
   ]
  },
  {
   "cell_type": "code",
   "execution_count": 4,
   "metadata": {},
   "outputs": [
    {
     "output_type": "execute_result",
     "data": {
      "text/plain": "<matplotlib.image.AxesImage at 0x7f9e80c8cef0>"
     },
     "metadata": {},
     "execution_count": 4
    },
    {
     "output_type": "display_data",
     "data": {
      "text/plain": "<Figure size 432x288 with 1 Axes>",
      "image/svg+xml": "<?xml version=\"1.0\" encoding=\"utf-8\" standalone=\"no\"?>\n<!DOCTYPE svg PUBLIC \"-//W3C//DTD SVG 1.1//EN\"\n  \"http://www.w3.org/Graphics/SVG/1.1/DTD/svg11.dtd\">\n<!-- Created with matplotlib (https://matplotlib.org/) -->\n<svg height=\"250.185579pt\" version=\"1.1\" viewBox=\"0 0 255.795735 250.185579\" width=\"255.795735pt\" xmlns=\"http://www.w3.org/2000/svg\" xmlns:xlink=\"http://www.w3.org/1999/xlink\">\n <defs>\n  <style type=\"text/css\">\n*{stroke-linecap:butt;stroke-linejoin:round;}\n  </style>\n </defs>\n <g id=\"figure_1\">\n  <g id=\"patch_1\">\n   <path d=\"M 0 250.185579 \nL 255.795735 250.185579 \nL 255.795735 0 \nL 0 0 \nz\n\" style=\"fill:none;\"/>\n  </g>\n  <g id=\"axes_1\">\n   <g id=\"patch_2\">\n    <path d=\"M 26.925 226.307454 \nL 244.365 226.307454 \nL 244.365 8.867454 \nL 26.925 8.867454 \nz\n\" style=\"fill:#ffffff;\"/>\n   </g>\n   <g clip-path=\"url(#p7afe258db5)\">\n    <image height=\"218\" id=\"image86d6225e0b\" transform=\"scale(1 -1)translate(0 -218)\" width=\"218\" x=\"26.925\" xlink:href=\"data:image/png;base64,\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\" y=\"-8.307454\"/>\n   </g>\n   <g id=\"matplotlib.axis_1\">\n    <g id=\"xtick_1\">\n     <g id=\"line2d_1\">\n      <defs>\n       <path d=\"M 0 0 \nL 0 3.5 \n\" id=\"m12fe7d306d\" style=\"stroke:#000000;stroke-width:0.8;\"/>\n      </defs>\n      <g>\n       <use style=\"stroke:#000000;stroke-width:0.8;\" x=\"29.056765\" xlink:href=\"#m12fe7d306d\" y=\"226.307454\"/>\n      </g>\n     </g>\n     <g id=\"text_1\">\n      <!-- 0 -->\n      <defs>\n       <path d=\"M 31.78125 66.40625 \nQ 24.171875 66.40625 20.328125 58.90625 \nQ 16.5 51.421875 16.5 36.375 \nQ 16.5 21.390625 20.328125 13.890625 \nQ 24.171875 6.390625 31.78125 6.390625 \nQ 39.453125 6.390625 43.28125 13.890625 \nQ 47.125 21.390625 47.125 36.375 \nQ 47.125 51.421875 43.28125 58.90625 \nQ 39.453125 66.40625 31.78125 66.40625 \nz\nM 31.78125 74.21875 \nQ 44.046875 74.21875 50.515625 64.515625 \nQ 56.984375 54.828125 56.984375 36.375 \nQ 56.984375 17.96875 50.515625 8.265625 \nQ 44.046875 -1.421875 31.78125 -1.421875 \nQ 19.53125 -1.421875 13.0625 8.265625 \nQ 6.59375 17.96875 6.59375 36.375 \nQ 6.59375 54.828125 13.0625 64.515625 \nQ 19.53125 74.21875 31.78125 74.21875 \nz\n\" id=\"DejaVuSans-48\"/>\n      </defs>\n      <g transform=\"translate(25.875515 240.905892)scale(0.1 -0.1)\">\n       <use xlink:href=\"#DejaVuSans-48\"/>\n      </g>\n     </g>\n    </g>\n    <g id=\"xtick_2\">\n     <g id=\"line2d_2\">\n      <g>\n       <use style=\"stroke:#000000;stroke-width:0.8;\" x=\"71.692059\" xlink:href=\"#m12fe7d306d\" y=\"226.307454\"/>\n      </g>\n     </g>\n     <g id=\"text_2\">\n      <!-- 10 -->\n      <defs>\n       <path d=\"M 12.40625 8.296875 \nL 28.515625 8.296875 \nL 28.515625 63.921875 \nL 10.984375 60.40625 \nL 10.984375 69.390625 \nL 28.421875 72.90625 \nL 38.28125 72.90625 \nL 38.28125 8.296875 \nL 54.390625 8.296875 \nL 54.390625 0 \nL 12.40625 0 \nz\n\" id=\"DejaVuSans-49\"/>\n      </defs>\n      <g transform=\"translate(65.329559 240.905892)scale(0.1 -0.1)\">\n       <use xlink:href=\"#DejaVuSans-49\"/>\n       <use x=\"63.623047\" xlink:href=\"#DejaVuSans-48\"/>\n      </g>\n     </g>\n    </g>\n    <g id=\"xtick_3\">\n     <g id=\"line2d_3\">\n      <g>\n       <use style=\"stroke:#000000;stroke-width:0.8;\" x=\"114.327353\" xlink:href=\"#m12fe7d306d\" y=\"226.307454\"/>\n      </g>\n     </g>\n     <g id=\"text_3\">\n      <!-- 20 -->\n      <defs>\n       <path d=\"M 19.1875 8.296875 \nL 53.609375 8.296875 \nL 53.609375 0 \nL 7.328125 0 \nL 7.328125 8.296875 \nQ 12.9375 14.109375 22.625 23.890625 \nQ 32.328125 33.6875 34.8125 36.53125 \nQ 39.546875 41.84375 41.421875 45.53125 \nQ 43.3125 49.21875 43.3125 52.78125 \nQ 43.3125 58.59375 39.234375 62.25 \nQ 35.15625 65.921875 28.609375 65.921875 \nQ 23.96875 65.921875 18.8125 64.3125 \nQ 13.671875 62.703125 7.8125 59.421875 \nL 7.8125 69.390625 \nQ 13.765625 71.78125 18.9375 73 \nQ 24.125 74.21875 28.421875 74.21875 \nQ 39.75 74.21875 46.484375 68.546875 \nQ 53.21875 62.890625 53.21875 53.421875 \nQ 53.21875 48.921875 51.53125 44.890625 \nQ 49.859375 40.875 45.40625 35.40625 \nQ 44.1875 33.984375 37.640625 27.21875 \nQ 31.109375 20.453125 19.1875 8.296875 \nz\n\" id=\"DejaVuSans-50\"/>\n      </defs>\n      <g transform=\"translate(107.964853 240.905892)scale(0.1 -0.1)\">\n       <use xlink:href=\"#DejaVuSans-50\"/>\n       <use x=\"63.623047\" xlink:href=\"#DejaVuSans-48\"/>\n      </g>\n     </g>\n    </g>\n    <g id=\"xtick_4\">\n     <g id=\"line2d_4\">\n      <g>\n       <use style=\"stroke:#000000;stroke-width:0.8;\" x=\"156.962647\" xlink:href=\"#m12fe7d306d\" y=\"226.307454\"/>\n      </g>\n     </g>\n     <g id=\"text_4\">\n      <!-- 30 -->\n      <defs>\n       <path d=\"M 40.578125 39.3125 \nQ 47.65625 37.796875 51.625 33 \nQ 55.609375 28.21875 55.609375 21.1875 \nQ 55.609375 10.40625 48.1875 4.484375 \nQ 40.765625 -1.421875 27.09375 -1.421875 \nQ 22.515625 -1.421875 17.65625 -0.515625 \nQ 12.796875 0.390625 7.625 2.203125 \nL 7.625 11.71875 \nQ 11.71875 9.328125 16.59375 8.109375 \nQ 21.484375 6.890625 26.8125 6.890625 \nQ 36.078125 6.890625 40.9375 10.546875 \nQ 45.796875 14.203125 45.796875 21.1875 \nQ 45.796875 27.640625 41.28125 31.265625 \nQ 36.765625 34.90625 28.71875 34.90625 \nL 20.21875 34.90625 \nL 20.21875 43.015625 \nL 29.109375 43.015625 \nQ 36.375 43.015625 40.234375 45.921875 \nQ 44.09375 48.828125 44.09375 54.296875 \nQ 44.09375 59.90625 40.109375 62.90625 \nQ 36.140625 65.921875 28.71875 65.921875 \nQ 24.65625 65.921875 20.015625 65.03125 \nQ 15.375 64.15625 9.8125 62.3125 \nL 9.8125 71.09375 \nQ 15.4375 72.65625 20.34375 73.4375 \nQ 25.25 74.21875 29.59375 74.21875 \nQ 40.828125 74.21875 47.359375 69.109375 \nQ 53.90625 64.015625 53.90625 55.328125 \nQ 53.90625 49.265625 50.4375 45.09375 \nQ 46.96875 40.921875 40.578125 39.3125 \nz\n\" id=\"DejaVuSans-51\"/>\n      </defs>\n      <g transform=\"translate(150.600147 240.905892)scale(0.1 -0.1)\">\n       <use xlink:href=\"#DejaVuSans-51\"/>\n       <use x=\"63.623047\" xlink:href=\"#DejaVuSans-48\"/>\n      </g>\n     </g>\n    </g>\n    <g id=\"xtick_5\">\n     <g id=\"line2d_5\">\n      <g>\n       <use style=\"stroke:#000000;stroke-width:0.8;\" x=\"199.597941\" xlink:href=\"#m12fe7d306d\" y=\"226.307454\"/>\n      </g>\n     </g>\n     <g id=\"text_5\">\n      <!-- 40 -->\n      <defs>\n       <path d=\"M 37.796875 64.3125 \nL 12.890625 25.390625 \nL 37.796875 25.390625 \nz\nM 35.203125 72.90625 \nL 47.609375 72.90625 \nL 47.609375 25.390625 \nL 58.015625 25.390625 \nL 58.015625 17.1875 \nL 47.609375 17.1875 \nL 47.609375 0 \nL 37.796875 0 \nL 37.796875 17.1875 \nL 4.890625 17.1875 \nL 4.890625 26.703125 \nz\n\" id=\"DejaVuSans-52\"/>\n      </defs>\n      <g transform=\"translate(193.235441 240.905892)scale(0.1 -0.1)\">\n       <use xlink:href=\"#DejaVuSans-52\"/>\n       <use x=\"63.623047\" xlink:href=\"#DejaVuSans-48\"/>\n      </g>\n     </g>\n    </g>\n    <g id=\"xtick_6\">\n     <g id=\"line2d_6\">\n      <g>\n       <use style=\"stroke:#000000;stroke-width:0.8;\" x=\"242.233235\" xlink:href=\"#m12fe7d306d\" y=\"226.307454\"/>\n      </g>\n     </g>\n     <g id=\"text_6\">\n      <!-- 50 -->\n      <defs>\n       <path d=\"M 10.796875 72.90625 \nL 49.515625 72.90625 \nL 49.515625 64.59375 \nL 19.828125 64.59375 \nL 19.828125 46.734375 \nQ 21.96875 47.46875 24.109375 47.828125 \nQ 26.265625 48.1875 28.421875 48.1875 \nQ 40.625 48.1875 47.75 41.5 \nQ 54.890625 34.8125 54.890625 23.390625 \nQ 54.890625 11.625 47.5625 5.09375 \nQ 40.234375 -1.421875 26.90625 -1.421875 \nQ 22.3125 -1.421875 17.546875 -0.640625 \nQ 12.796875 0.140625 7.71875 1.703125 \nL 7.71875 11.625 \nQ 12.109375 9.234375 16.796875 8.0625 \nQ 21.484375 6.890625 26.703125 6.890625 \nQ 35.15625 6.890625 40.078125 11.328125 \nQ 45.015625 15.765625 45.015625 23.390625 \nQ 45.015625 31 40.078125 35.4375 \nQ 35.15625 39.890625 26.703125 39.890625 \nQ 22.75 39.890625 18.8125 39.015625 \nQ 14.890625 38.140625 10.796875 36.28125 \nz\n\" id=\"DejaVuSans-53\"/>\n      </defs>\n      <g transform=\"translate(235.870735 240.905892)scale(0.1 -0.1)\">\n       <use xlink:href=\"#DejaVuSans-53\"/>\n       <use x=\"63.623047\" xlink:href=\"#DejaVuSans-48\"/>\n      </g>\n     </g>\n    </g>\n   </g>\n   <g id=\"matplotlib.axis_2\">\n    <g id=\"ytick_1\">\n     <g id=\"line2d_7\">\n      <defs>\n       <path d=\"M 0 0 \nL -3.5 0 \n\" id=\"ma3b5e9bcff\" style=\"stroke:#000000;stroke-width:0.8;\"/>\n      </defs>\n      <g>\n       <use style=\"stroke:#000000;stroke-width:0.8;\" x=\"26.925\" xlink:href=\"#ma3b5e9bcff\" y=\"10.999219\"/>\n      </g>\n     </g>\n     <g id=\"text_7\">\n      <!-- 0 -->\n      <g transform=\"translate(13.5625 14.798437)scale(0.1 -0.1)\">\n       <use xlink:href=\"#DejaVuSans-48\"/>\n      </g>\n     </g>\n    </g>\n    <g id=\"ytick_2\">\n     <g id=\"line2d_8\">\n      <g>\n       <use style=\"stroke:#000000;stroke-width:0.8;\" x=\"26.925\" xlink:href=\"#ma3b5e9bcff\" y=\"53.634513\"/>\n      </g>\n     </g>\n     <g id=\"text_8\">\n      <!-- 10 -->\n      <g transform=\"translate(7.2 57.433732)scale(0.1 -0.1)\">\n       <use xlink:href=\"#DejaVuSans-49\"/>\n       <use x=\"63.623047\" xlink:href=\"#DejaVuSans-48\"/>\n      </g>\n     </g>\n    </g>\n    <g id=\"ytick_3\">\n     <g id=\"line2d_9\">\n      <g>\n       <use style=\"stroke:#000000;stroke-width:0.8;\" x=\"26.925\" xlink:href=\"#ma3b5e9bcff\" y=\"96.269807\"/>\n      </g>\n     </g>\n     <g id=\"text_9\">\n      <!-- 20 -->\n      <g transform=\"translate(7.2 100.069026)scale(0.1 -0.1)\">\n       <use xlink:href=\"#DejaVuSans-50\"/>\n       <use x=\"63.623047\" xlink:href=\"#DejaVuSans-48\"/>\n      </g>\n     </g>\n    </g>\n    <g id=\"ytick_4\">\n     <g id=\"line2d_10\">\n      <g>\n       <use style=\"stroke:#000000;stroke-width:0.8;\" x=\"26.925\" xlink:href=\"#ma3b5e9bcff\" y=\"138.905101\"/>\n      </g>\n     </g>\n     <g id=\"text_10\">\n      <!-- 30 -->\n      <g transform=\"translate(7.2 142.70432)scale(0.1 -0.1)\">\n       <use xlink:href=\"#DejaVuSans-51\"/>\n       <use x=\"63.623047\" xlink:href=\"#DejaVuSans-48\"/>\n      </g>\n     </g>\n    </g>\n    <g id=\"ytick_5\">\n     <g id=\"line2d_11\">\n      <g>\n       <use style=\"stroke:#000000;stroke-width:0.8;\" x=\"26.925\" xlink:href=\"#ma3b5e9bcff\" y=\"181.540395\"/>\n      </g>\n     </g>\n     <g id=\"text_11\">\n      <!-- 40 -->\n      <g transform=\"translate(7.2 185.339614)scale(0.1 -0.1)\">\n       <use xlink:href=\"#DejaVuSans-52\"/>\n       <use x=\"63.623047\" xlink:href=\"#DejaVuSans-48\"/>\n      </g>\n     </g>\n    </g>\n    <g id=\"ytick_6\">\n     <g id=\"line2d_12\">\n      <g>\n       <use style=\"stroke:#000000;stroke-width:0.8;\" x=\"26.925\" xlink:href=\"#ma3b5e9bcff\" y=\"224.175689\"/>\n      </g>\n     </g>\n     <g id=\"text_12\">\n      <!-- 50 -->\n      <g transform=\"translate(7.2 227.974908)scale(0.1 -0.1)\">\n       <use xlink:href=\"#DejaVuSans-53\"/>\n       <use x=\"63.623047\" xlink:href=\"#DejaVuSans-48\"/>\n      </g>\n     </g>\n    </g>\n   </g>\n   <g id=\"patch_3\">\n    <path d=\"M 26.925 226.307454 \nL 26.925 8.867454 \n\" style=\"fill:none;stroke:#000000;stroke-linecap:square;stroke-linejoin:miter;stroke-width:0.8;\"/>\n   </g>\n   <g id=\"patch_4\">\n    <path d=\"M 244.365 226.307454 \nL 244.365 8.867454 \n\" style=\"fill:none;stroke:#000000;stroke-linecap:square;stroke-linejoin:miter;stroke-width:0.8;\"/>\n   </g>\n   <g id=\"patch_5\">\n    <path d=\"M 26.925 226.307454 \nL 244.365 226.307454 \n\" style=\"fill:none;stroke:#000000;stroke-linecap:square;stroke-linejoin:miter;stroke-width:0.8;\"/>\n   </g>\n   <g id=\"patch_6\">\n    <path d=\"M 26.925 8.867454 \nL 244.365 8.867454 \n\" style=\"fill:none;stroke:#000000;stroke-linecap:square;stroke-linejoin:miter;stroke-width:0.8;\"/>\n   </g>\n  </g>\n </g>\n <defs>\n  <clipPath id=\"p7afe258db5\">\n   <rect height=\"217.44\" width=\"217.44\" x=\"26.925\" y=\"8.867454\"/>\n  </clipPath>\n </defs>\n</svg>\n",
      "image/png": "[encoded data removed]"
     },
     "metadata": {
      "needs_background": "light"
     }
    }
   ],
   "source": [
    "g = plt.imread(water_body_dir.joinpath(water_body_l[7]))\n",
    "plt.imshow(g)"
   ]
  },
  {
   "cell_type": "code",
   "execution_count": 8,
   "metadata": {},
   "outputs": [],
   "source": [
    "X = []\n",
    "y = []\n",
    "\n",
    "for filename in water_body_samples[:25000]:\n",
    "    image = plt.imread(water_body_dir.joinpath(filename))\n",
    "    X.append(image)\n",
    "    y.append(1)"
   ]
  },
  {
   "cell_type": "code",
   "execution_count": 9,
   "metadata": {},
   "outputs": [
    {
     "output_type": "execute_result",
     "data": {
      "text/plain": "87719"
     },
     "metadata": {},
     "execution_count": 9
    }
   ],
   "source": [
    "len(water_body_samples)"
   ]
  },
  {
   "cell_type": "code",
   "execution_count": null,
   "metadata": {
    "tags": [
     "outputPrepend"
    ]
   },
   "outputs": [],
   "source": [
    "# for some reason water body samples has a few images with different size, so we must remove them\n",
    "\n",
    "for i in range(len(X)-1):\n",
    "    if X[i].shape != (51,51,3):\n",
    "        print(X[i].shape)\n",
    "        X.pop(i)\n",
    "        y.pop(i)"
   ]
  },
  {
   "cell_type": "code",
   "execution_count": 12,
   "metadata": {},
   "outputs": [],
   "source": [
    "for filename in no_water_body_l[:25000]:\n",
    "    image = plt.imread(no_water_body_dir.joinpath(filename))\n",
    "    X.append(image)\n",
    "    y.append(0)"
   ]
  },
  {
   "cell_type": "code",
   "execution_count": 13,
   "metadata": {
    "tags": [
     "outputPrepend"
    ]
   },
   "outputs": [
    {
     "output_type": "stream",
     "name": "stdout",
     "text": "(51, 28, 3)\n(51, 30, 3)\n(51, 28, 3)\n(51, 30, 3)\n(51, 34, 3)\n(51, 34, 3)\n(51, 39, 3)\n(51, 43, 3)\n(51, 31, 3)\n(51, 44, 3)\n(51, 44, 3)\n(51, 45, 3)\n(51, 46, 3)\n(51, 48, 3)\n(51, 41, 3)\n(51, 27, 3)\n(51, 34, 3)\n(51, 26, 3)\n(51, 44, 3)\n(51, 45, 3)\n(51, 25, 3)\n(51, 42, 3)\n(51, 30, 3)\n(51, 48, 3)\n(51, 46, 3)\n(51, 27, 3)\n(51, 35, 3)\n(51, 47, 3)\n(51, 33, 3)\n(51, 34, 3)\n(51, 44, 3)\n(51, 42, 3)\n(51, 44, 3)\n(51, 45, 3)\n(51, 36, 3)\n(51, 50, 3)\n(51, 33, 3)\n(51, 40, 3)\n(51, 45, 3)\n(51, 30, 3)\n(51, 38, 3)\n(51, 47, 3)\n(51, 26, 3)\n(51, 26, 3)\n(51, 36, 3)\n(51, 40, 3)\n(51, 40, 3)\n(51, 38, 3)\n(51, 41, 3)\n(51, 26, 3)\n(51, 33, 3)\n(51, 33, 3)\n(51, 29, 3)\n(51, 40, 3)\n(51, 39, 3)\n(51, 28, 3)\n(51, 29, 3)\n(51, 49, 3)\n(51, 29, 3)\n(51, 35, 3)\n(51, 28, 3)\n(51, 27, 3)\n(51, 35, 3)\n"
    },
    {
     "output_type": "error",
     "ename": "IndexError",
     "evalue": "list index out of range",
     "traceback": [
      "\u001b[0;31m---------------------------------------------------------------------------\u001b[0m",
      "\u001b[0;31mIndexError\u001b[0m                                Traceback (most recent call last)",
      "\u001b[0;32m<ipython-input-13-9250ecf33d1a>\u001b[0m in \u001b[0;36m<module>\u001b[0;34m\u001b[0m\n\u001b[1;32m      1\u001b[0m \u001b[0;32mfor\u001b[0m \u001b[0mi\u001b[0m \u001b[0;32min\u001b[0m \u001b[0mrange\u001b[0m\u001b[0;34m(\u001b[0m\u001b[0mlen\u001b[0m\u001b[0;34m(\u001b[0m\u001b[0mX\u001b[0m\u001b[0;34m)\u001b[0m\u001b[0;34m-\u001b[0m\u001b[0;36m1\u001b[0m\u001b[0;34m)\u001b[0m\u001b[0;34m:\u001b[0m\u001b[0;34m\u001b[0m\u001b[0;34m\u001b[0m\u001b[0m\n\u001b[0;32m----> 2\u001b[0;31m     \u001b[0;32mif\u001b[0m \u001b[0mX\u001b[0m\u001b[0;34m[\u001b[0m\u001b[0mi\u001b[0m\u001b[0;34m]\u001b[0m\u001b[0;34m.\u001b[0m\u001b[0mshape\u001b[0m \u001b[0;34m!=\u001b[0m \u001b[0;34m(\u001b[0m\u001b[0;36m51\u001b[0m\u001b[0;34m,\u001b[0m\u001b[0;36m51\u001b[0m\u001b[0;34m,\u001b[0m\u001b[0;36m3\u001b[0m\u001b[0;34m)\u001b[0m\u001b[0;34m:\u001b[0m\u001b[0;34m\u001b[0m\u001b[0;34m\u001b[0m\u001b[0m\n\u001b[0m\u001b[1;32m      3\u001b[0m         \u001b[0mprint\u001b[0m\u001b[0;34m(\u001b[0m\u001b[0mX\u001b[0m\u001b[0;34m[\u001b[0m\u001b[0mi\u001b[0m\u001b[0;34m]\u001b[0m\u001b[0;34m.\u001b[0m\u001b[0mshape\u001b[0m\u001b[0;34m)\u001b[0m\u001b[0;34m\u001b[0m\u001b[0;34m\u001b[0m\u001b[0m\n\u001b[1;32m      4\u001b[0m         \u001b[0mX\u001b[0m\u001b[0;34m.\u001b[0m\u001b[0mpop\u001b[0m\u001b[0;34m(\u001b[0m\u001b[0mi\u001b[0m\u001b[0;34m)\u001b[0m\u001b[0;34m\u001b[0m\u001b[0;34m\u001b[0m\u001b[0m\n\u001b[1;32m      5\u001b[0m         \u001b[0my\u001b[0m\u001b[0;34m.\u001b[0m\u001b[0mpop\u001b[0m\u001b[0;34m(\u001b[0m\u001b[0mi\u001b[0m\u001b[0;34m)\u001b[0m\u001b[0;34m\u001b[0m\u001b[0;34m\u001b[0m\u001b[0m\n",
      "\u001b[0;31mIndexError\u001b[0m: list index out of range"
     ]
    }
   ],
   "source": [
    "for i in range(len(X)-1):\n",
    "    if X[i].shape != (51,51,3):\n",
    "        print(X[i].shape)\n",
    "        X.pop(i)\n",
    "        y.pop(i)"
   ]
  },
  {
   "cell_type": "code",
   "execution_count": 14,
   "metadata": {},
   "outputs": [],
   "source": [
    "#X = np.array(X)\n",
    "#y = np.array(y)\n",
    "\n",
    "from sklearn.utils import shuffle\n",
    "X, y = shuffle(X, y)\n",
    "\n",
    ""
   ]
  },
  {
   "cell_type": "code",
   "execution_count": 15,
   "metadata": {},
   "outputs": [],
   "source": [
    "X = np.array(X)\n",
    "y = np.array(y)"
   ]
  },
  {
   "cell_type": "code",
   "execution_count": 16,
   "metadata": {},
   "outputs": [
    {
     "output_type": "execute_result",
     "data": {
      "text/plain": "1909"
     },
     "metadata": {},
     "execution_count": 16
    }
   ],
   "source": [
    "# check data\n",
    "import seaborn as sns\n",
    "del water_body_l\n",
    "del no_water_body_l\n",
    "del water_body_samples\n",
    "gc.collect()\n",
    ""
   ]
  },
  {
   "cell_type": "code",
   "execution_count": 17,
   "metadata": {},
   "outputs": [
    {
     "output_type": "stream",
     "name": "stdout",
     "text": "shape of X: (50237, 51, 51, 3)\nshape of y: (50237,)\n"
    },
    {
     "output_type": "display_data",
     "data": {
      "text/plain": "<Figure size 432x288 with 1 Axes>",
      "image/svg+xml": "<?xml version=\"1.0\" encoding=\"utf-8\" standalone=\"no\"?>\n<!DOCTYPE svg PUBLIC \"-//W3C//DTD SVG 1.1//EN\"\n  \"http://www.w3.org/Graphics/SVG/1.1/DTD/svg11.dtd\">\n<!-- Created with matplotlib (https://matplotlib.org/) -->\n<svg height=\"248.518125pt\" version=\"1.1\" viewBox=\"0 0 401.690625 248.518125\" width=\"401.690625pt\" xmlns=\"http://www.w3.org/2000/svg\" xmlns:xlink=\"http://www.w3.org/1999/xlink\">\n <defs>\n  <style type=\"text/css\">\n*{stroke-linecap:butt;stroke-linejoin:round;}\n  </style>\n </defs>\n <g id=\"figure_1\">\n  <g id=\"patch_1\">\n   <path d=\"M 0 248.518125 \nL 401.690625 248.518125 \nL 401.690625 0 \nL 0 0 \nz\n\" style=\"fill:none;\"/>\n  </g>\n  <g id=\"axes_1\">\n   <g id=\"patch_2\">\n    <path d=\"M 59.690625 224.64 \nL 394.490625 224.64 \nL 394.490625 7.2 \nL 59.690625 7.2 \nz\n\" style=\"fill:#ffffff;\"/>\n   </g>\n   <g id=\"patch_3\">\n    <path clip-path=\"url(#paac30edc7a)\" d=\"M 76.430625 224.64 \nL 210.350625 224.64 \nL 210.350625 17.554286 \nL 76.430625 17.554286 \nz\n\" style=\"fill:#3274a1;\"/>\n   </g>\n   <g id=\"patch_4\">\n    <path clip-path=\"url(#paac30edc7a)\" d=\"M 243.830625 224.64 \nL 377.750625 224.64 \nL 377.750625 19.499022 \nL 243.830625 19.499022 \nz\n\" style=\"fill:#e1812c;\"/>\n   </g>\n   <g id=\"matplotlib.axis_1\">\n    <g id=\"xtick_1\">\n     <g id=\"line2d_1\">\n      <defs>\n       <path d=\"M 0 0 \nL 0 3.5 \n\" id=\"m68962e4abe\" style=\"stroke:#000000;stroke-width:0.8;\"/>\n      </defs>\n      <g>\n       <use style=\"stroke:#000000;stroke-width:0.8;\" x=\"143.390625\" xlink:href=\"#m68962e4abe\" y=\"224.64\"/>\n      </g>\n     </g>\n     <g id=\"text_1\">\n      <!-- 0 -->\n      <defs>\n       <path d=\"M 31.78125 66.40625 \nQ 24.171875 66.40625 20.328125 58.90625 \nQ 16.5 51.421875 16.5 36.375 \nQ 16.5 21.390625 20.328125 13.890625 \nQ 24.171875 6.390625 31.78125 6.390625 \nQ 39.453125 6.390625 43.28125 13.890625 \nQ 47.125 21.390625 47.125 36.375 \nQ 47.125 51.421875 43.28125 58.90625 \nQ 39.453125 66.40625 31.78125 66.40625 \nz\nM 31.78125 74.21875 \nQ 44.046875 74.21875 50.515625 64.515625 \nQ 56.984375 54.828125 56.984375 36.375 \nQ 56.984375 17.96875 50.515625 8.265625 \nQ 44.046875 -1.421875 31.78125 -1.421875 \nQ 19.53125 -1.421875 13.0625 8.265625 \nQ 6.59375 17.96875 6.59375 36.375 \nQ 6.59375 54.828125 13.0625 64.515625 \nQ 19.53125 74.21875 31.78125 74.21875 \nz\n\" id=\"DejaVuSans-48\"/>\n      </defs>\n      <g transform=\"translate(140.209375 239.238437)scale(0.1 -0.1)\">\n       <use xlink:href=\"#DejaVuSans-48\"/>\n      </g>\n     </g>\n    </g>\n    <g id=\"xtick_2\">\n     <g id=\"line2d_2\">\n      <g>\n       <use style=\"stroke:#000000;stroke-width:0.8;\" x=\"310.790625\" xlink:href=\"#m68962e4abe\" y=\"224.64\"/>\n      </g>\n     </g>\n     <g id=\"text_2\">\n      <!-- 1 -->\n      <defs>\n       <path d=\"M 12.40625 8.296875 \nL 28.515625 8.296875 \nL 28.515625 63.921875 \nL 10.984375 60.40625 \nL 10.984375 69.390625 \nL 28.421875 72.90625 \nL 38.28125 72.90625 \nL 38.28125 8.296875 \nL 54.390625 8.296875 \nL 54.390625 0 \nL 12.40625 0 \nz\n\" id=\"DejaVuSans-49\"/>\n      </defs>\n      <g transform=\"translate(307.609375 239.238437)scale(0.1 -0.1)\">\n       <use xlink:href=\"#DejaVuSans-49\"/>\n      </g>\n     </g>\n    </g>\n   </g>\n   <g id=\"matplotlib.axis_2\">\n    <g id=\"ytick_1\">\n     <g id=\"line2d_3\">\n      <defs>\n       <path d=\"M 0 0 \nL -3.5 0 \n\" id=\"m01dfe24022\" style=\"stroke:#000000;stroke-width:0.8;\"/>\n      </defs>\n      <g>\n       <use style=\"stroke:#000000;stroke-width:0.8;\" x=\"59.690625\" xlink:href=\"#m01dfe24022\" y=\"224.64\"/>\n      </g>\n     </g>\n     <g id=\"text_3\">\n      <!-- 0 -->\n      <g transform=\"translate(46.328125 228.439219)scale(0.1 -0.1)\">\n       <use xlink:href=\"#DejaVuSans-48\"/>\n      </g>\n     </g>\n    </g>\n    <g id=\"ytick_2\">\n     <g id=\"line2d_4\">\n      <g>\n       <use style=\"stroke:#000000;stroke-width:0.8;\" x=\"59.690625\" xlink:href=\"#m01dfe24022\" y=\"183.611804\"/>\n      </g>\n     </g>\n     <g id=\"text_4\">\n      <!-- 5000 -->\n      <defs>\n       <path d=\"M 10.796875 72.90625 \nL 49.515625 72.90625 \nL 49.515625 64.59375 \nL 19.828125 64.59375 \nL 19.828125 46.734375 \nQ 21.96875 47.46875 24.109375 47.828125 \nQ 26.265625 48.1875 28.421875 48.1875 \nQ 40.625 48.1875 47.75 41.5 \nQ 54.890625 34.8125 54.890625 23.390625 \nQ 54.890625 11.625 47.5625 5.09375 \nQ 40.234375 -1.421875 26.90625 -1.421875 \nQ 22.3125 -1.421875 17.546875 -0.640625 \nQ 12.796875 0.140625 7.71875 1.703125 \nL 7.71875 11.625 \nQ 12.109375 9.234375 16.796875 8.0625 \nQ 21.484375 6.890625 26.703125 6.890625 \nQ 35.15625 6.890625 40.078125 11.328125 \nQ 45.015625 15.765625 45.015625 23.390625 \nQ 45.015625 31 40.078125 35.4375 \nQ 35.15625 39.890625 26.703125 39.890625 \nQ 22.75 39.890625 18.8125 39.015625 \nQ 14.890625 38.140625 10.796875 36.28125 \nz\n\" id=\"DejaVuSans-53\"/>\n      </defs>\n      <g transform=\"translate(27.240625 187.411023)scale(0.1 -0.1)\">\n       <use xlink:href=\"#DejaVuSans-53\"/>\n       <use x=\"63.623047\" xlink:href=\"#DejaVuSans-48\"/>\n       <use x=\"127.246094\" xlink:href=\"#DejaVuSans-48\"/>\n       <use x=\"190.869141\" xlink:href=\"#DejaVuSans-48\"/>\n      </g>\n     </g>\n    </g>\n    <g id=\"ytick_3\">\n     <g id=\"line2d_5\">\n      <g>\n       <use style=\"stroke:#000000;stroke-width:0.8;\" x=\"59.690625\" xlink:href=\"#m01dfe24022\" y=\"142.583609\"/>\n      </g>\n     </g>\n     <g id=\"text_5\">\n      <!-- 10000 -->\n      <g transform=\"translate(20.878125 146.382828)scale(0.1 -0.1)\">\n       <use xlink:href=\"#DejaVuSans-49\"/>\n       <use x=\"63.623047\" xlink:href=\"#DejaVuSans-48\"/>\n       <use x=\"127.246094\" xlink:href=\"#DejaVuSans-48\"/>\n       <use x=\"190.869141\" xlink:href=\"#DejaVuSans-48\"/>\n       <use x=\"254.492188\" xlink:href=\"#DejaVuSans-48\"/>\n      </g>\n     </g>\n    </g>\n    <g id=\"ytick_4\">\n     <g id=\"line2d_6\">\n      <g>\n       <use style=\"stroke:#000000;stroke-width:0.8;\" x=\"59.690625\" xlink:href=\"#m01dfe24022\" y=\"101.555413\"/>\n      </g>\n     </g>\n     <g id=\"text_6\">\n      <!-- 15000 -->\n      <g transform=\"translate(20.878125 105.354632)scale(0.1 -0.1)\">\n       <use xlink:href=\"#DejaVuSans-49\"/>\n       <use x=\"63.623047\" xlink:href=\"#DejaVuSans-53\"/>\n       <use x=\"127.246094\" xlink:href=\"#DejaVuSans-48\"/>\n       <use x=\"190.869141\" xlink:href=\"#DejaVuSans-48\"/>\n       <use x=\"254.492188\" xlink:href=\"#DejaVuSans-48\"/>\n      </g>\n     </g>\n    </g>\n    <g id=\"ytick_5\">\n     <g id=\"line2d_7\">\n      <g>\n       <use style=\"stroke:#000000;stroke-width:0.8;\" x=\"59.690625\" xlink:href=\"#m01dfe24022\" y=\"60.527218\"/>\n      </g>\n     </g>\n     <g id=\"text_7\">\n      <!-- 20000 -->\n      <defs>\n       <path d=\"M 19.1875 8.296875 \nL 53.609375 8.296875 \nL 53.609375 0 \nL 7.328125 0 \nL 7.328125 8.296875 \nQ 12.9375 14.109375 22.625 23.890625 \nQ 32.328125 33.6875 34.8125 36.53125 \nQ 39.546875 41.84375 41.421875 45.53125 \nQ 43.3125 49.21875 43.3125 52.78125 \nQ 43.3125 58.59375 39.234375 62.25 \nQ 35.15625 65.921875 28.609375 65.921875 \nQ 23.96875 65.921875 18.8125 64.3125 \nQ 13.671875 62.703125 7.8125 59.421875 \nL 7.8125 69.390625 \nQ 13.765625 71.78125 18.9375 73 \nQ 24.125 74.21875 28.421875 74.21875 \nQ 39.75 74.21875 46.484375 68.546875 \nQ 53.21875 62.890625 53.21875 53.421875 \nQ 53.21875 48.921875 51.53125 44.890625 \nQ 49.859375 40.875 45.40625 35.40625 \nQ 44.1875 33.984375 37.640625 27.21875 \nQ 31.109375 20.453125 19.1875 8.296875 \nz\n\" id=\"DejaVuSans-50\"/>\n      </defs>\n      <g transform=\"translate(20.878125 64.326436)scale(0.1 -0.1)\">\n       <use xlink:href=\"#DejaVuSans-50\"/>\n       <use x=\"63.623047\" xlink:href=\"#DejaVuSans-48\"/>\n       <use x=\"127.246094\" xlink:href=\"#DejaVuSans-48\"/>\n       <use x=\"190.869141\" xlink:href=\"#DejaVuSans-48\"/>\n       <use x=\"254.492188\" xlink:href=\"#DejaVuSans-48\"/>\n      </g>\n     </g>\n    </g>\n    <g id=\"ytick_6\">\n     <g id=\"line2d_8\">\n      <g>\n       <use style=\"stroke:#000000;stroke-width:0.8;\" x=\"59.690625\" xlink:href=\"#m01dfe24022\" y=\"19.499022\"/>\n      </g>\n     </g>\n     <g id=\"text_8\">\n      <!-- 25000 -->\n      <g transform=\"translate(20.878125 23.298241)scale(0.1 -0.1)\">\n       <use xlink:href=\"#DejaVuSans-50\"/>\n       <use x=\"63.623047\" xlink:href=\"#DejaVuSans-53\"/>\n       <use x=\"127.246094\" xlink:href=\"#DejaVuSans-48\"/>\n       <use x=\"190.869141\" xlink:href=\"#DejaVuSans-48\"/>\n       <use x=\"254.492188\" xlink:href=\"#DejaVuSans-48\"/>\n      </g>\n     </g>\n    </g>\n    <g id=\"text_9\">\n     <!-- count -->\n     <defs>\n      <path d=\"M 48.78125 52.59375 \nL 48.78125 44.1875 \nQ 44.96875 46.296875 41.140625 47.34375 \nQ 37.3125 48.390625 33.40625 48.390625 \nQ 24.65625 48.390625 19.8125 42.84375 \nQ 14.984375 37.3125 14.984375 27.296875 \nQ 14.984375 17.28125 19.8125 11.734375 \nQ 24.65625 6.203125 33.40625 6.203125 \nQ 37.3125 6.203125 41.140625 7.25 \nQ 44.96875 8.296875 48.78125 10.40625 \nL 48.78125 2.09375 \nQ 45.015625 0.34375 40.984375 -0.53125 \nQ 36.96875 -1.421875 32.421875 -1.421875 \nQ 20.0625 -1.421875 12.78125 6.34375 \nQ 5.515625 14.109375 5.515625 27.296875 \nQ 5.515625 40.671875 12.859375 48.328125 \nQ 20.21875 56 33.015625 56 \nQ 37.15625 56 41.109375 55.140625 \nQ 45.0625 54.296875 48.78125 52.59375 \nz\n\" id=\"DejaVuSans-99\"/>\n      <path d=\"M 30.609375 48.390625 \nQ 23.390625 48.390625 19.1875 42.75 \nQ 14.984375 37.109375 14.984375 27.296875 \nQ 14.984375 17.484375 19.15625 11.84375 \nQ 23.34375 6.203125 30.609375 6.203125 \nQ 37.796875 6.203125 41.984375 11.859375 \nQ 46.1875 17.53125 46.1875 27.296875 \nQ 46.1875 37.015625 41.984375 42.703125 \nQ 37.796875 48.390625 30.609375 48.390625 \nz\nM 30.609375 56 \nQ 42.328125 56 49.015625 48.375 \nQ 55.71875 40.765625 55.71875 27.296875 \nQ 55.71875 13.875 49.015625 6.21875 \nQ 42.328125 -1.421875 30.609375 -1.421875 \nQ 18.84375 -1.421875 12.171875 6.21875 \nQ 5.515625 13.875 5.515625 27.296875 \nQ 5.515625 40.765625 12.171875 48.375 \nQ 18.84375 56 30.609375 56 \nz\n\" id=\"DejaVuSans-111\"/>\n      <path d=\"M 8.5 21.578125 \nL 8.5 54.6875 \nL 17.484375 54.6875 \nL 17.484375 21.921875 \nQ 17.484375 14.15625 20.5 10.265625 \nQ 23.53125 6.390625 29.59375 6.390625 \nQ 36.859375 6.390625 41.078125 11.03125 \nQ 45.3125 15.671875 45.3125 23.6875 \nL 45.3125 54.6875 \nL 54.296875 54.6875 \nL 54.296875 0 \nL 45.3125 0 \nL 45.3125 8.40625 \nQ 42.046875 3.421875 37.71875 1 \nQ 33.40625 -1.421875 27.6875 -1.421875 \nQ 18.265625 -1.421875 13.375 4.4375 \nQ 8.5 10.296875 8.5 21.578125 \nz\nM 31.109375 56 \nz\n\" id=\"DejaVuSans-117\"/>\n      <path d=\"M 54.890625 33.015625 \nL 54.890625 0 \nL 45.90625 0 \nL 45.90625 32.71875 \nQ 45.90625 40.484375 42.875 44.328125 \nQ 39.84375 48.1875 33.796875 48.1875 \nQ 26.515625 48.1875 22.3125 43.546875 \nQ 18.109375 38.921875 18.109375 30.90625 \nL 18.109375 0 \nL 9.078125 0 \nL 9.078125 54.6875 \nL 18.109375 54.6875 \nL 18.109375 46.1875 \nQ 21.34375 51.125 25.703125 53.5625 \nQ 30.078125 56 35.796875 56 \nQ 45.21875 56 50.046875 50.171875 \nQ 54.890625 44.34375 54.890625 33.015625 \nz\n\" id=\"DejaVuSans-110\"/>\n      <path d=\"M 18.3125 70.21875 \nL 18.3125 54.6875 \nL 36.8125 54.6875 \nL 36.8125 47.703125 \nL 18.3125 47.703125 \nL 18.3125 18.015625 \nQ 18.3125 11.328125 20.140625 9.421875 \nQ 21.96875 7.515625 27.59375 7.515625 \nL 36.8125 7.515625 \nL 36.8125 0 \nL 27.59375 0 \nQ 17.1875 0 13.234375 3.875 \nQ 9.28125 7.765625 9.28125 18.015625 \nL 9.28125 47.703125 \nL 2.6875 47.703125 \nL 2.6875 54.6875 \nL 9.28125 54.6875 \nL 9.28125 70.21875 \nz\n\" id=\"DejaVuSans-116\"/>\n     </defs>\n     <g transform=\"translate(14.798438 130.02625)rotate(-90)scale(0.1 -0.1)\">\n      <use xlink:href=\"#DejaVuSans-99\"/>\n      <use x=\"54.980469\" xlink:href=\"#DejaVuSans-111\"/>\n      <use x=\"116.162109\" xlink:href=\"#DejaVuSans-117\"/>\n      <use x=\"179.541016\" xlink:href=\"#DejaVuSans-110\"/>\n      <use x=\"242.919922\" xlink:href=\"#DejaVuSans-116\"/>\n     </g>\n    </g>\n   </g>\n   <g id=\"patch_5\">\n    <path d=\"M 59.690625 224.64 \nL 59.690625 7.2 \n\" style=\"fill:none;stroke:#000000;stroke-linecap:square;stroke-linejoin:miter;stroke-width:0.8;\"/>\n   </g>\n   <g id=\"patch_6\">\n    <path d=\"M 394.490625 224.64 \nL 394.490625 7.2 \n\" style=\"fill:none;stroke:#000000;stroke-linecap:square;stroke-linejoin:miter;stroke-width:0.8;\"/>\n   </g>\n   <g id=\"patch_7\">\n    <path d=\"M 59.690625 224.64 \nL 394.490625 224.64 \n\" style=\"fill:none;stroke:#000000;stroke-linecap:square;stroke-linejoin:miter;stroke-width:0.8;\"/>\n   </g>\n   <g id=\"patch_8\">\n    <path d=\"M 59.690625 7.2 \nL 394.490625 7.2 \n\" style=\"fill:none;stroke:#000000;stroke-linecap:square;stroke-linejoin:miter;stroke-width:0.8;\"/>\n   </g>\n  </g>\n </g>\n <defs>\n  <clipPath id=\"paac30edc7a\">\n   <rect height=\"217.44\" width=\"334.8\" x=\"59.690625\" y=\"7.2\"/>\n  </clipPath>\n </defs>\n</svg>\n",
      "image/png": "[encoded data removed]"
     },
     "metadata": {
      "needs_background": "light"
     }
    }
   ],
   "source": [
    "\n",
    "sns.countplot(y)\n",
    "\n",
    "print('shape of X: {}'.format(X.shape))\n",
    "print('shape of y: {}'.format(y.shape))\n",
    ""
   ]
  },
  {
   "cell_type": "code",
   "execution_count": 18,
   "metadata": {},
   "outputs": [],
   "source": [
    "from sklearn.model_selection import train_test_split\n",
    "\n",
    "X_train, X_val, y_train, y_val = train_test_split(X, y, test_size=0.2, random_state=66, shuffle=True)\n",
    "\n",
    ""
   ]
  },
  {
   "cell_type": "code",
   "execution_count": 19,
   "metadata": {},
   "outputs": [],
   "source": [
    "ntrain = len(X_train)\n",
    "nval = len(X_val)\n",
    "\n",
    "# we will use a batch size of 32 #NOTE batch size must be factor of 2**x - 2, 4, 8, 16, 32\n",
    "\n",
    "batch_size = 10"
   ]
  },
  {
   "cell_type": "code",
   "execution_count": 20,
   "metadata": {},
   "outputs": [
    {
     "output_type": "stream",
     "name": "stderr",
     "text": "Using TensorFlow backend.\n"
    }
   ],
   "source": [
    "from keras import layers\n",
    "from keras import models\n",
    "from keras import optimizers\n",
    "from keras.preprocessing.image import ImageDataGenerator\n",
    "from keras.preprocessing.image import img_to_array, load_img\n",
    ""
   ]
  },
  {
   "cell_type": "code",
   "execution_count": 21,
   "metadata": {},
   "outputs": [],
   "source": [
    "model = models.Sequential()\n",
    "\n",
    "model.add(layers.Conv2D(32,(3,3), activation='relu', input_shape = (51,51,3)))\n",
    "\n",
    "model.add(layers.MaxPooling2D((2,2)))\n",
    "model.add(layers.Conv2D(64,(3,3), activation='relu')),\n",
    "\n",
    "model.add(layers.MaxPooling2D((2,2)))\n",
    "model.add(layers.Conv2D(128, (3,3),activation='relu'))\n",
    "model.add(layers.MaxPool2D((2,2)))\n",
    "model.add(layers.Conv2D(128, (3,3),activation='relu'))\n",
    "model.add(layers.MaxPool2D((2,2)))\n",
    "model.add(layers.Flatten())\n",
    "\n",
    "model.add(layers.Dropout(0.5)) # dropout for regularisation\n",
    "model.add(layers.Dense(512,activation='relu'))\n",
    "model.add(layers.Dense(1, activation='sigmoid')) # sigmoid fu wenction at the end because we have just two classes\n",
    "\n",
    ""
   ]
  },
  {
   "cell_type": "code",
   "execution_count": 22,
   "metadata": {},
   "outputs": [
    {
     "output_type": "stream",
     "name": "stdout",
     "text": "Model: \"sequential_1\"\n_________________________________________________________________\nLayer (type)                 Output Shape              Param #   \n=================================================================\nconv2d_1 (Conv2D)            (None, 49, 49, 32)        896       \n_________________________________________________________________\nmax_pooling2d_1 (MaxPooling2 (None, 24, 24, 32)        0         \n_________________________________________________________________\nconv2d_2 (Conv2D)            (None, 22, 22, 64)        18496     \n_________________________________________________________________\nmax_pooling2d_2 (MaxPooling2 (None, 11, 11, 64)        0         \n_________________________________________________________________\nconv2d_3 (Conv2D)            (None, 9, 9, 128)         73856     \n_________________________________________________________________\nmax_pooling2d_3 (MaxPooling2 (None, 4, 4, 128)         0         \n_________________________________________________________________\nconv2d_4 (Conv2D)            (None, 2, 2, 128)         147584    \n_________________________________________________________________\nmax_pooling2d_4 (MaxPooling2 (None, 1, 1, 128)         0         \n_________________________________________________________________\nflatten_1 (Flatten)          (None, 128)               0         \n_________________________________________________________________\ndropout_1 (Dropout)          (None, 128)               0         \n_________________________________________________________________\ndense_1 (Dense)              (None, 512)               66048     \n_________________________________________________________________\ndense_2 (Dense)              (None, 1)                 513       \n=================================================================\nTotal params: 307,393\nTrainable params: 307,393\nNon-trainable params: 0\n_________________________________________________________________\n"
    }
   ],
   "source": [
    "model.summary()"
   ]
  },
  {
   "cell_type": "code",
   "execution_count": 23,
   "metadata": {},
   "outputs": [],
   "source": [
    "model.compile(loss='binary_crossentropy', optimizer=optimizers.RMSprop(lr=1e-4),metrics=['acc'])"
   ]
  },
  {
   "cell_type": "code",
   "execution_count": 24,
   "metadata": {},
   "outputs": [],
   "source": [
    "#Create the augmentation configuration\n",
    "# This helps prevent overfitting\n",
    "train_datagen = ImageDataGenerator(rescale=1./80,\n",
    "                                    rotation_range=40,\n",
    "                                    width_shift_range=0.2,\n",
    "                                    height_shift_range=0.2,\n",
    "                                    shear_range=0.2,\n",
    "                                    zoom_range=0.2,\n",
    "                                    horizontal_flip=True,)\n",
    "\n",
    "Val_Datagen = ImageDataGenerator(rescale=1./255)"
   ]
  },
  {
   "cell_type": "code",
   "execution_count": 25,
   "metadata": {},
   "outputs": [],
   "source": [
    "train_generator = train_datagen.flow(X_train,y_train, batch_size = batch_size)\n",
    "val_generator = Val_Datagen.flow(X_val, y_val, batch_size=batch_size)"
   ]
  },
  {
   "cell_type": "code",
   "execution_count": 26,
   "metadata": {},
   "outputs": [
    {
     "output_type": "stream",
     "name": "stdout",
     "text": "Epoch 1/80\n4018/4018 [==============================] - 53s 13ms/step - loss: 0.2091 - acc: 0.9231 - val_loss: 1.5262 - val_acc: 0.5330\nEpoch 2/80\n4018/4018 [==============================] - 58s 15ms/step - loss: 0.1373 - acc: 0.9563 - val_loss: 1.1287 - val_acc: 0.5438\nEpoch 3/80\n4018/4018 [==============================] - 54s 14ms/step - loss: 0.1293 - acc: 0.9599 - val_loss: 0.4736 - val_acc: 0.5906\nEpoch 4/80\n4018/4018 [==============================] - 60s 15ms/step - loss: 0.1312 - acc: 0.9607 - val_loss: 1.6522 - val_acc: 0.5968\nEpoch 5/80\n4018/4018 [==============================] - 54s 13ms/step - loss: 0.1316 - acc: 0.9610 - val_loss: 3.5689 - val_acc: 0.5046\nEpoch 6/80\n4018/4018 [==============================] - 58s 14ms/step - loss: 0.1347 - acc: 0.9600 - val_loss: 0.0604 - val_acc: 0.6817\nEpoch 7/80\n4018/4018 [==============================] - 57s 14ms/step - loss: 0.1320 - acc: 0.9594 - val_loss: 0.4240 - val_acc: 0.6610\nEpoch 8/80\n4018/4018 [==============================] - 57s 14ms/step - loss: 0.1339 - acc: 0.9603 - val_loss: 0.8550 - val_acc: 0.5764\nEpoch 9/80\n4018/4018 [==============================] - 60s 15ms/step - loss: 0.1324 - acc: 0.9605 - val_loss: 0.7651 - val_acc: 0.6045\nEpoch 10/80\n4018/4018 [==============================] - 60s 15ms/step - loss: 0.1308 - acc: 0.9621 - val_loss: 1.9981 - val_acc: 0.5196\nEpoch 11/80\n4018/4018 [==============================] - 62s 15ms/step - loss: 0.1288 - acc: 0.9617 - val_loss: 3.0961 - val_acc: 0.4954\nEpoch 12/80\n4018/4018 [==============================] - 58s 14ms/step - loss: 0.1248 - acc: 0.9638 - val_loss: 1.3075 - val_acc: 0.5064\nEpoch 13/80\n4018/4018 [==============================] - 51s 13ms/step - loss: 0.1210 - acc: 0.9651 - val_loss: 1.4108 - val_acc: 0.4965\nEpoch 14/80\n4018/4018 [==============================] - 51s 13ms/step - loss: 0.1205 - acc: 0.9647 - val_loss: 1.4767 - val_acc: 0.5836\nEpoch 15/80\n4018/4018 [==============================] - 50s 13ms/step - loss: 0.1196 - acc: 0.9669 - val_loss: 2.1227 - val_acc: 0.5142\nEpoch 16/80\n4018/4018 [==============================] - 54s 13ms/step - loss: 0.1181 - acc: 0.9662 - val_loss: 2.9088 - val_acc: 0.5499\nEpoch 17/80\n4018/4018 [==============================] - 54s 13ms/step - loss: 0.1196 - acc: 0.9665 - val_loss: 1.5939 - val_acc: 0.5028\nEpoch 18/80\n4018/4018 [==============================] - 59s 15ms/step - loss: 0.1176 - acc: 0.9667 - val_loss: 7.2655 - val_acc: 0.4997\nEpoch 19/80\n4018/4018 [==============================] - 61s 15ms/step - loss: 0.1233 - acc: 0.9679 - val_loss: 4.8869 - val_acc: 0.5021\nEpoch 20/80\n4018/4018 [==============================] - 60s 15ms/step - loss: 0.1189 - acc: 0.9679 - val_loss: 6.0160 - val_acc: 0.5253\nEpoch 21/80\n4018/4018 [==============================] - 60s 15ms/step - loss: 0.1207 - acc: 0.9679 - val_loss: 6.2237 - val_acc: 0.5243\nEpoch 22/80\n4018/4018 [==============================] - 58s 14ms/step - loss: 0.1258 - acc: 0.9667 - val_loss: 3.5383 - val_acc: 0.5130\nEpoch 23/80\n4018/4018 [==============================] - 61s 15ms/step - loss: 0.1212 - acc: 0.9673 - val_loss: 5.4367 - val_acc: 0.5078\nEpoch 24/80\n4018/4018 [==============================] - 60s 15ms/step - loss: 0.1261 - acc: 0.9667 - val_loss: 4.9252 - val_acc: 0.5349\nEpoch 25/80\n4018/4018 [==============================] - 59s 15ms/step - loss: 0.1276 - acc: 0.9660 - val_loss: 13.4007 - val_acc: 0.4961\nEpoch 26/80\n4018/4018 [==============================] - 75s 19ms/step - loss: 0.1312 - acc: 0.9665 - val_loss: 7.8616 - val_acc: 0.4989\nEpoch 27/80\n4018/4018 [==============================] - 60s 15ms/step - loss: 0.1299 - acc: 0.9667 - val_loss: 6.0595 - val_acc: 0.4978\nEpoch 28/80\n4018/4018 [==============================] - 60s 15ms/step - loss: 0.1296 - acc: 0.9672 - val_loss: 6.4500 - val_acc: 0.4964\nEpoch 29/80\n4018/4018 [==============================] - 61s 15ms/step - loss: 0.1286 - acc: 0.9658 - val_loss: 5.1893 - val_acc: 0.4986\nEpoch 30/80\n4018/4018 [==============================] - 59s 15ms/step - loss: 0.1309 - acc: 0.9656 - val_loss: 3.7733 - val_acc: 0.5220\nEpoch 31/80\n4018/4018 [==============================] - 61s 15ms/step - loss: 0.1306 - acc: 0.9661 - val_loss: 2.1351 - val_acc: 0.5060\nEpoch 32/80\n4018/4018 [==============================] - 52s 13ms/step - loss: 0.1297 - acc: 0.9679 - val_loss: 5.1521 - val_acc: 0.5031\nEpoch 33/80\n4018/4018 [==============================] - 53s 13ms/step - loss: 0.1301 - acc: 0.9669 - val_loss: 2.4312 - val_acc: 0.5859\nEpoch 34/80\n4018/4018 [==============================] - 55s 14ms/step - loss: 0.1271 - acc: 0.9672 - val_loss: 22.3067 - val_acc: 0.4963\nEpoch 35/80\n4018/4018 [==============================] - 55s 14ms/step - loss: 0.1297 - acc: 0.9677 - val_loss: 8.0553 - val_acc: 0.4968\nEpoch 36/80\n4018/4018 [==============================] - 50s 12ms/step - loss: 0.1260 - acc: 0.9675 - val_loss: 11.2476 - val_acc: 0.5001\nEpoch 37/80\n4018/4018 [==============================] - 64s 16ms/step - loss: 0.1316 - acc: 0.9697 - val_loss: 10.6151 - val_acc: 0.4968\nEpoch 38/80\n4018/4018 [==============================] - 60s 15ms/step - loss: 0.1272 - acc: 0.9691 - val_loss: 2.1987 - val_acc: 0.5028\nEpoch 39/80\n4018/4018 [==============================] - 60s 15ms/step - loss: 0.1276 - acc: 0.9696 - val_loss: 5.2034 - val_acc: 0.5100\nEpoch 40/80\n4018/4018 [==============================] - 61s 15ms/step - loss: 0.1176 - acc: 0.9704 - val_loss: 4.1667 - val_acc: 0.5325\nEpoch 41/80\n4018/4018 [==============================] - 60s 15ms/step - loss: 0.1232 - acc: 0.9699 - val_loss: 2.3565 - val_acc: 0.5054\nEpoch 42/80\n4018/4018 [==============================] - 62s 15ms/step - loss: 0.1313 - acc: 0.9697 - val_loss: 2.5325 - val_acc: 0.5303\nEpoch 43/80\n4018/4018 [==============================] - 52s 13ms/step - loss: 0.1244 - acc: 0.9707 - val_loss: 0.5886 - val_acc: 0.4989\nEpoch 44/80\n4018/4018 [==============================] - 55s 14ms/step - loss: 0.1211 - acc: 0.9721 - val_loss: 7.7158 - val_acc: 0.5196\nEpoch 45/80\n4018/4018 [==============================] - 54s 13ms/step - loss: 0.1273 - acc: 0.9710 - val_loss: 3.0028 - val_acc: 0.5261\nEpoch 46/80\n4018/4018 [==============================] - 53s 13ms/step - loss: 0.1347 - acc: 0.9709 - val_loss: 8.7226 - val_acc: 0.4964\nEpoch 47/80\n4018/4018 [==============================] - 55s 14ms/step - loss: 0.1279 - acc: 0.9726 - val_loss: 7.4775 - val_acc: 0.4984\nEpoch 48/80\n4018/4018 [==============================] - 52s 13ms/step - loss: 0.1245 - acc: 0.9715 - val_loss: 5.5558 - val_acc: 0.6633\nEpoch 49/80\n4018/4018 [==============================] - 52s 13ms/step - loss: 0.1239 - acc: 0.9708 - val_loss: 10.2211 - val_acc: 0.4953\nEpoch 50/80\n4018/4018 [==============================] - 55s 14ms/step - loss: 0.1315 - acc: 0.9712 - val_loss: 6.7738 - val_acc: 0.5017\nEpoch 51/80\n4018/4018 [==============================] - 54s 13ms/step - loss: 0.1228 - acc: 0.9727 - val_loss: 1.8713 - val_acc: 0.5213\nEpoch 52/80\n4018/4018 [==============================] - 55s 14ms/step - loss: 0.1134 - acc: 0.9729 - val_loss: 12.8703 - val_acc: 0.4958\nEpoch 53/80\n4018/4018 [==============================] - 53s 13ms/step - loss: 0.1202 - acc: 0.9728 - val_loss: 1.2948 - val_acc: 0.5456\nEpoch 54/80\n4018/4018 [==============================] - 54s 13ms/step - loss: 0.1219 - acc: 0.9737 - val_loss: 1.3296 - val_acc: 0.5113\nEpoch 55/80\n4018/4018 [==============================] - 54s 13ms/step - loss: 0.1155 - acc: 0.9725 - val_loss: 10.6472 - val_acc: 0.4974\nEpoch 56/80\n4018/4018 [==============================] - 53s 13ms/step - loss: 0.1200 - acc: 0.9737 - val_loss: 7.4480 - val_acc: 0.5293\nEpoch 57/80\n4018/4018 [==============================] - 53s 13ms/step - loss: 0.1179 - acc: 0.9740 - val_loss: 6.7386 - val_acc: 0.4985\nEpoch 58/80\n4018/4018 [==============================] - 55s 14ms/step - loss: 0.1255 - acc: 0.9728 - val_loss: 2.8879 - val_acc: 0.5114\nEpoch 59/80\n4018/4018 [==============================] - 54s 13ms/step - loss: 0.1336 - acc: 0.9725 - val_loss: 4.9323 - val_acc: 0.5152\nEpoch 60/80\n4018/4018 [==============================] - 55s 14ms/step - loss: 0.1192 - acc: 0.9716 - val_loss: 7.6283 - val_acc: 0.5036\nEpoch 61/80\n4018/4018 [==============================] - 54s 13ms/step - loss: 0.1184 - acc: 0.9725 - val_loss: 2.7298 - val_acc: 0.5081\nEpoch 62/80\n4018/4018 [==============================] - 51s 13ms/step - loss: 0.1222 - acc: 0.9722 - val_loss: 4.8155 - val_acc: 0.5262\nEpoch 63/80\n4018/4018 [==============================] - 56s 14ms/step - loss: 0.1169 - acc: 0.9735 - val_loss: 0.8004 - val_acc: 0.5612\nEpoch 64/80\n4018/4018 [==============================] - 53s 13ms/step - loss: 0.1273 - acc: 0.9708 - val_loss: 5.7458 - val_acc: 0.4999\nEpoch 65/80\n4018/4018 [==============================] - 52s 13ms/step - loss: 0.1275 - acc: 0.9706 - val_loss: 6.6880 - val_acc: 0.5052\nEpoch 66/80\n4018/4018 [==============================] - 55s 14ms/step - loss: 0.1257 - acc: 0.9727 - val_loss: 2.8816 - val_acc: 0.6447\nEpoch 67/80\n4018/4018 [==============================] - 53s 13ms/step - loss: 0.1211 - acc: 0.9711 - val_loss: 1.6573 - val_acc: 0.5038\nEpoch 68/80\n4018/4018 [==============================] - 52s 13ms/step - loss: 0.1235 - acc: 0.9712 - val_loss: 15.3018 - val_acc: 0.4996\nEpoch 69/80\n4018/4018 [==============================] - 55s 14ms/step - loss: 0.1276 - acc: 0.9709 - val_loss: 2.8849 - val_acc: 0.6193\nEpoch 70/80\n4018/4018 [==============================] - 53s 13ms/step - loss: 0.1209 - acc: 0.9719 - val_loss: 1.6024 - val_acc: 0.5252\nEpoch 71/80\n4018/4018 [==============================] - 51s 13ms/step - loss: 0.1173 - acc: 0.9717 - val_loss: 3.5621 - val_acc: 0.5280\nEpoch 72/80\n4018/4018 [==============================] - 55s 14ms/step - loss: 0.1250 - acc: 0.9722 - val_loss: 3.0731 - val_acc: 0.5017\nEpoch 73/80\n4018/4018 [==============================] - 53s 13ms/step - loss: 0.1234 - acc: 0.9715 - val_loss: 0.9222 - val_acc: 0.6422\nEpoch 74/80\n4018/4018 [==============================] - 53s 13ms/step - loss: 0.1206 - acc: 0.9721 - val_loss: 5.3370 - val_acc: 0.5073\nEpoch 75/80\n4018/4018 [==============================] - 55s 14ms/step - loss: 0.1191 - acc: 0.9720 - val_loss: 1.5219 - val_acc: 0.7691\nEpoch 76/80\n4018/4018 [==============================] - 53s 13ms/step - loss: 0.1162 - acc: 0.9725 - val_loss: 2.0694 - val_acc: 0.5668\nEpoch 77/80\n4018/4018 [==============================] - 54s 13ms/step - loss: 0.1215 - acc: 0.9727 - val_loss: 6.7443 - val_acc: 0.5513\nEpoch 78/80\n4018/4018 [==============================] - 55s 14ms/step - loss: 0.1228 - acc: 0.9723 - val_loss: 6.5454 - val_acc: 0.5119\nEpoch 79/80\n4018/4018 [==============================] - 53s 13ms/step - loss: 0.1213 - acc: 0.9722 - val_loss: 4.7695 - val_acc: 0.5132\nEpoch 80/80\n4018/4018 [==============================] - 53s 13ms/step - loss: 0.1221 - acc: 0.9714 - val_loss: 2.7891 - val_acc: 0.6547\n"
    }
   ],
   "source": [
    "# the training\n",
    "# We train for 64 epochs with about 100 steps per epoch\n",
    "history = model.fit_generator(train_generator,\n",
    "                                steps_per_epoch=ntrain// batch_size,\n",
    "                                epochs=80,\n",
    "                                validation_data=val_generator,\n",
    "                                validation_steps=nval // batch_size)"
   ]
  },
  {
   "cell_type": "code",
   "execution_count": null,
   "metadata": {},
   "outputs": [],
   "source": [
    "history"
   ]
  }
 ]
}