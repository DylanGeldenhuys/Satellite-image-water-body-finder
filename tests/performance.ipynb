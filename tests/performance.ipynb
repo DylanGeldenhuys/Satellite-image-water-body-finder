{
 "nbformat": 4,
 "nbformat_minor": 2,
 "metadata": {
  "language_info": {
   "name": "python",
   "codemirror_mode": {
    "name": "ipython",
    "version": 3
   },
   "version": "3.8.2-final"
  },
  "orig_nbformat": 2,
  "file_extension": ".py",
  "mimetype": "text/x-python",
  "name": "python",
  "npconvert_exporter": "python",
  "pygments_lexer": "ipython3",
  "version": 3,
  "kernelspec": {
   "name": "python38132bitenvvenv8ad15bd044324b0f90899fd32b6982f7",
   "display_name": "Python 3.8.1 32-bit ('env': venv)"
  }
 },
 "cells": [
  {
   "cell_type": "code",
   "execution_count": 9,
   "metadata": {},
   "outputs": [],
   "source": [
    "import sys\n",
    "sys.path.append('../')\n",
    "\n",
    "import pandas as pd\n",
    "from pathlib import Path\n",
    "from water_body_finder.feature_extraction import extract_variance, extract_mean_color, extract_entropy\n",
    "from water_body_finder.utilities import create_window\n",
    "import rasterio\n",
    "from rasterio.plot import reshape_as_image\n",
    "import cProfile"
   ]
  },
  {
   "cell_type": "code",
   "execution_count": 10,
   "metadata": {},
   "outputs": [],
   "source": [
    "image_data_directory = Path(\"D:/WaterBodyExtraction/WaterPolyData/image_data/2531DA04.tif\")\n",
    "data_resolution = 5\n",
    "data_padding = 15\n",
    "\n",
    "raster_image_data = rasterio.open(image_data_directory).read()\n",
    "image_data = reshape_as_image(raster_image_data)\n",
    "\n",
    "height = int(image_data.shape[0] / data_resolution - data_padding / data_resolution)\n",
    "width = int(image_data.shape[1] / data_resolution - data_padding / data_resolution)\n",
    "\n",
    "offset = round(data_padding/2)"
   ]
  },
  {
   "cell_type": "code",
   "execution_count": 11,
   "metadata": {},
   "outputs": [],
   "source": [
    "def entropy_extraction_a(window):\n",
    "    extract_entropy(window)\n",
    "\n",
    "def entropy_extraction_b(window):\n",
    "    extract_entropy(window)\n",
    ""
   ]
  },
  {
   "cell_type": "code",
   "execution_count": 12,
   "metadata": {},
   "outputs": [],
   "source": [
    "def test():\n",
    "    for j in range(100):\n",
    "        for i in range(100):\n",
    "            y = j * data_resolution + offset\n",
    "            x = i * data_resolution + offset\n",
    "\n",
    "            window_a = create_window(image_data, [y, x], 5)\n",
    "            window_b = create_window(image_data, [y, x], 15)\n",
    "\n",
    "            entropy = entropy_extraction_a(window_a)\n",
    "            entropy = entropy_extraction_b(window_b)"
   ]
  },
  {
   "cell_type": "code",
   "execution_count": 13,
   "metadata": {},
   "outputs": [
    {
     "output_type": "stream",
     "name": "stdout",
     "text": "1150004 function calls (1090004 primitive calls) in 1.219 seconds\n\n   Ordered by: standard name\n\n   ncalls  tottime  percall  cumtime  percall filename:lineno(function)\n    20000    0.011    0.000    0.068    0.000 <__array_function__ internals>:2(concatenate)\n    20000    0.011    0.000    0.139    0.000 <__array_function__ internals>:2(diff)\n    20000    0.011    0.000    0.067    0.000 <__array_function__ internals>:2(nonzero)\n    40000    0.024    0.000    0.253    0.000 <__array_function__ internals>:2(sum)\n    20000    0.012    0.000    0.714    0.000 <__array_function__ internals>:2(unique)\n    10000    0.005    0.000    0.513    0.000 <ipython-input-11-7697950f573f>:4(entropy_extraction_b)\n        1    0.021    0.021    1.219    1.219 <ipython-input-12-3e4f3c3bf3f2>:1(test)\n        1    0.000    0.000    1.219    1.219 <string>:1(<module>)\n    20000    0.005    0.000    0.010    0.000 _asarray.py:16(asarray)\n    60000    0.015    0.000    0.032    0.000 _asarray.py:88(asanyarray)\n    20000    0.166    0.000    0.429    0.000 _distn_infrastructure.py:2612(entropy)\n    20000    0.006    0.000    0.009    0.000 arraysetops.py:138(_unpack_tuple)\n    20000    0.003    0.000    0.003    0.000 arraysetops.py:146(_unique_dispatcher)\n    20000    0.026    0.000    0.685    0.000 arraysetops.py:151(unique)\n    20000    0.157    0.000    0.639    0.000 arraysetops.py:298(_unique1d)\n    20000    0.020    0.000    0.020    0.000 create_window.py:1(create_window)\n    20000    0.010    0.000    1.174    0.000 entropy.py:4(extract_entropy)\n    20000    0.021    0.000    1.164    0.000 entropy.py:5(shannon_entropy)\n    20000    0.003    0.000    0.003    0.000 fromnumeric.py:1800(_nonzero_dispatcher)\n    20000    0.008    0.000    0.045    0.000 fromnumeric.py:1804(nonzero)\n    40000    0.005    0.000    0.005    0.000 fromnumeric.py:2087(_sum_dispatcher)\n    40000    0.041    0.000    0.204    0.000 fromnumeric.py:2092(sum)\n    20000    0.012    0.000    0.037    0.000 fromnumeric.py:55(_wrapfunc)\n    40000    0.050    0.000    0.156    0.000 fromnumeric.py:73(_wrapreduction)\n    40000    0.018    0.000    0.018    0.000 fromnumeric.py:74(<dictcomp>)\n    20000    0.003    0.000    0.003    0.000 function_base.py:1137(_diff_dispatcher)\n    20000    0.091    0.000    0.114    0.000 function_base.py:1141(diff)\n    20000    0.003    0.000    0.003    0.000 multiarray.py:145(concatenate)\n        1    0.000    0.000    1.219    1.219 {built-in method builtins.exec}\n    20000    0.004    0.000    0.004    0.000 {built-in method builtins.getattr}\n    40000    0.007    0.000    0.007    0.000 {built-in method builtins.isinstance}\n    40000    0.005    0.000    0.005    0.000 {built-in method builtins.len}\n    80000    0.022    0.000    0.022    0.000 {built-in method numpy.array}\n120000/60000    0.106    0.000    0.922    0.000 {built-in method numpy.core._multiarray_umath.implement_array_function}\n    20000    0.005    0.000    0.005    0.000 {built-in method numpy.core._multiarray_umath.normalize_axis_index}\n    20000    0.015    0.000    0.015    0.000 {built-in method numpy.empty}\n    20000    0.004    0.000    0.004    0.000 {method 'append' of 'list' objects}\n        1    0.000    0.000    0.000    0.000 {method 'disable' of '_lsprof.Profiler' objects}\n    20000    0.038    0.000    0.038    0.000 {method 'flatten' of 'numpy.ndarray' objects}\n    40000    0.005    0.000    0.005    0.000 {method 'items' of 'dict' objects}\n    20000    0.022    0.000    0.022    0.000 {method 'nonzero' of 'numpy.ndarray' objects}\n    40000    0.083    0.000    0.083    0.000 {method 'reduce' of 'numpy.ufunc' objects}\n    20000    0.146    0.000    0.146    0.000 {method 'sort' of 'numpy.ndarray' objects}\n\n\n"
    }
   ],
   "source": [
    "cProfile.run('test()')"
   ]
  },
  {
   "cell_type": "code",
   "execution_count": null,
   "metadata": {},
   "outputs": [],
   "source": []
  }
 ]
}