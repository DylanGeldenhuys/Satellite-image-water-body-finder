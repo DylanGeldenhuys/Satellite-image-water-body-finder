{
 "nbformat": 4,
 "nbformat_minor": 2,
 "metadata": {
  "language_info": {
   "name": "python",
   "codemirror_mode": {
    "name": "ipython",
    "version": 3
   }
  },
  "orig_nbformat": 2,
  "file_extension": ".py",
  "mimetype": "text/x-python",
  "name": "python",
  "npconvert_exporter": "python",
  "pygments_lexer": "ipython3",
  "version": 3
 },
 "cells": [
  {
   "cell_type": "code",
   "execution_count": null,
   "metadata": {},
   "outputs": [],
   "source": [
    "# imports\n",
    "\n",
    "import rasterio\n",
    "from rasterio import mask\n",
    "from shapely import geometry\n",
    "from PIL import Image"
   ]
  },
  {
   "cell_type": "code",
   "execution_count": null,
   "metadata": {},
   "outputs": [],
   "source": [
    "# parameters\n",
    "\n",
    "geo_data_directory = \"\"\n",
    "image_data_directory = \"\"\n",
    "\n",
    "output_directory = \"\""
   ]
  },
  {
   "cell_type": "code",
   "execution_count": null,
   "metadata": {},
   "outputs": [],
   "source": [
    "for filename in os.listdir(geo_data_directory):\n",
    "    # load files\n",
    "    with open(geo_data_directory \"/\" + filename) as f:\n",
    "        geo_data = json.load(f)\n",
    "\n",
    "    image_data = rasterio.open(image_data_directory + \"/\" + filename[0:-8] + \".tif\")\n",
    "\n",
    "    # extract shapes\n",
    "    shapes = []\n",
    "    for feature in geo_data['features']:\n",
    "        shapes.append(geometry.Polygon(\n",
    "            [[p[0], p[1]] for p in feature['geometry']['coordinates']]))\n",
    "\n",
    "    # create mask from shapes\n",
    "    mask = rasterio.mask.raster_geometry_mask(image_data, shapes)[0]\n",
    "\n",
    "    # save mask as jpg\n",
    "    image_mask = Image.fromarray(mask)\n",
    "    image_mask.save(output_directory + \"/{}.jpg\".format(filename[0:-8]),'JPEG')"
   ]
  }
 ]
}