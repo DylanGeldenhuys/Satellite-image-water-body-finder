{
 "nbformat": 4,
 "nbformat_minor": 2,
 "metadata": {
  "language_info": {
   "name": "python",
   "codemirror_mode": {
    "name": "ipython",
    "version": 3
   },
   "version": "3.8.2-final"
  },
  "orig_nbformat": 2,
  "file_extension": ".py",
  "mimetype": "text/x-python",
  "name": "python",
  "npconvert_exporter": "python",
  "pygments_lexer": "ipython3",
  "version": 3,
  "kernelspec": {
   "name": "python38132bitenvvenv8ad15bd044324b0f90899fd32b6982f7",
   "display_name": "Python 3.8.1 32-bit ('env': venv)"
  }
 },
 "cells": [
  {
   "cell_type": "code",
   "execution_count": 11,
   "metadata": {},
   "outputs": [],
   "source": [
    "import sys\n",
    "sys.path.append('../')\n",
    "\n",
    "import pandas as pd\n",
    "from pathlib import Path\n",
    "from water_body_finder.feature_extraction import extract_variance, extract_mean_color, extract_entropy\n",
    "from water_body_finder.utilities import create_window\n",
    "import rasterio\n",
    "from rasterio.plot import reshape_as_image\n",
    "import cProfile\n",
    "import numpy as np\n",
    "import matplotlib.pyplot as plt"
   ]
  },
  {
   "cell_type": "code",
   "execution_count": 3,
   "metadata": {},
   "outputs": [],
   "source": [
    "def test():\n",
    "\n",
    "    image_data_directory = Path(\"D:/WaterBodyExtraction/WaterPolyData/image_data/2531DA04.tif\")\n",
    "\n",
    "    raster_image_data = rasterio.open(image_data_directory).read()\n",
    "    image_data = reshape_as_image(raster_image_data)\n",
    "\n",
    "    window = create_window(image_data, [1000, 1000], 15)\n",
    "    entropy = extract_entropy(window)\n",
    "    variance = extract_variance(window)\n",
    "    #print(window)\n",
    "    print(entropy)"
   ]
  },
  {
   "cell_type": "code",
   "execution_count": 8,
   "metadata": {},
   "outputs": [
    {
     "output_type": "error",
     "ename": "SyntaxError",
     "evalue": "EOL while scanning string literal (<ipython-input-8-4b99311673ba>, line 1)",
     "traceback": [
      "\u001b[1;36m  File \u001b[1;32m\"<ipython-input-8-4b99311673ba>\"\u001b[1;36m, line \u001b[1;32m1\u001b[0m\n\u001b[1;33m    cProfile.run('test()'')\u001b[0m\n\u001b[1;37m                           ^\u001b[0m\n\u001b[1;31mSyntaxError\u001b[0m\u001b[1;31m:\u001b[0m EOL while scanning string literal\n"
     ]
    }
   ],
   "source": [
    "cProfile.run('test()')"
   ]
  },
  {
   "cell_type": "code",
   "execution_count": 16,
   "metadata": {},
   "outputs": [
    {
     "output_type": "error",
     "ename": "SyntaxError",
     "evalue": "unmatched ')' (<ipython-input-16-7af9b3985067>, line 3)",
     "traceback": [
      "\u001b[1;36m  File \u001b[1;32m\"<ipython-input-16-7af9b3985067>\"\u001b[1;36m, line \u001b[1;32m3\u001b[0m\n\u001b[1;33m    lt.show())\u001b[0m\n\u001b[1;37m             ^\u001b[0m\n\u001b[1;31mSyntaxError\u001b[0m\u001b[1;31m:\u001b[0m unmatched ')'\n"
     ]
    }
   ],
   "source": [
    "x = np.load(Path(\"D:/WaterBodyExtraction/WaterPolyData/label_data/2529CC09.npy\"))\n",
    "plt.imshow(x, 'gray')\n",
    "plt.show()"
   ]
  },
  {
   "cell_type": "code",
   "execution_count": null,
   "metadata": {},
   "outputs": [],
   "source": []
  }
 ]
}