{
 "nbformat": 4,
 "nbformat_minor": 2,
 "metadata": {
  "language_info": {
   "name": "python",
   "codemirror_mode": {
    "name": "ipython",
    "version": 3
   },
   "version": "3.8.1-final"
  },
  "orig_nbformat": 2,
  "file_extension": ".py",
  "mimetype": "text/x-python",
  "name": "python",
  "npconvert_exporter": "python",
  "pygments_lexer": "ipython3",
  "version": 3,
  "kernelspec": {
   "name": "python38132bitenvvenv8ad15bd044324b0f90899fd32b6982f7",
   "display_name": "Python 3.8.1 32-bit ('env': venv)"
  }
 },
 "cells": [
  {
   "cell_type": "code",
   "execution_count": 1,
   "metadata": {},
   "outputs": [],
   "source": [
    "import pandas as pd"
   ]
  },
  {
   "cell_type": "code",
   "execution_count": 3,
   "metadata": {},
   "outputs": [
    {
     "output_type": "stream",
     "name": "stdout",
     "text": "notFound\n"
    }
   ],
   "source": [
    "output_directory = \"C:\\personal\\satalite-image-water-body-finder\\data\\training_sets\"\n",
    "\n",
    "try:\n",
    "    existing_csv = pd.read_csv(output_directory + \"/\" + \"something.csv\")\n",
    "except FileNotFoundError:\n",
    "    print(\"notFound\")"
   ]
  },
  {
   "cell_type": "code",
   "execution_count": 4,
   "metadata": {},
   "outputs": [
    {
     "output_type": "stream",
     "name": "stdout",
     "text": "[2, 3]\n"
    }
   ],
   "source": [
    "x = [1, 2, 3]\n",
    "print(x[1:])"
   ]
  },
  {
   "cell_type": "code",
   "execution_count": 8,
   "metadata": {},
   "outputs": [],
   "source": [
    "training_set = {\n",
    "    'variance': [],\n",
    "    'label': []\n",
    "}\n",
    "\n",
    "training_set_df = pd.DataFrame(training_set)\n",
    "training_set_df.to_csv(\"C:\\\\personal\\\\satalite-image-water-body-finder/data/training_sets\\\\training_set_1\\\\2628BB01.csv\")"
   ]
  },
  {
   "cell_type": "code",
   "execution_count": 20,
   "metadata": {},
   "outputs": [
    {
     "output_type": "stream",
     "name": "stdout",
     "text": "False\n"
    }
   ],
   "source": [
    "existing_csv = pd.read_csv(\"C:\\\\personal\\\\satalite-image-water-body-finder/data/training_sets\\\\training_set_2\\\\2628BB01.csv\")\n",
    "print(pd.isna(existing_csv).values.any())"
   ]
  },
  {
   "cell_type": "code",
   "execution_count": null,
   "metadata": {},
   "outputs": [],
   "source": []
  }
 ]
}