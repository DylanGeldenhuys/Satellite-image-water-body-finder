{
 "nbformat": 4,
 "nbformat_minor": 2,
 "metadata": {
  "language_info": {
   "name": "python",
   "codemirror_mode": {
    "name": "ipython",
    "version": 3
   },
   "version": "3.8.1-final"
  },
  "orig_nbformat": 2,
  "file_extension": ".py",
  "mimetype": "text/x-python",
  "name": "python",
  "npconvert_exporter": "python",
  "pygments_lexer": "ipython3",
  "version": 3,
  "kernelspec": {
   "name": "python38132bitenvvenv8ad15bd044324b0f90899fd32b6982f7",
   "display_name": "Python 3.8.1 32-bit ('env': venv)"
  }
 },
 "cells": [
  {
   "cell_type": "code",
   "execution_count": 1,
   "metadata": {},
   "outputs": [],
   "source": [
    "# imports\n",
    "\n",
    "import rasterio\n",
    "from rasterio import mask\n",
    "from shapely import geometry\n",
    "from PIL import Image\n",
    "import json"
   ]
  },
  {
   "cell_type": "code",
   "execution_count": 2,
   "metadata": {},
   "outputs": [],
   "source": [
    "# parameters\n",
    "\n",
    "geo_data_directory = \"C:\\personal\\satalite-image-water-body-finder\\data\\geo_data\"\n",
    "image_data_directory = \"C:\\personal\\satalite-image-water-body-finder\\data\\image_data\"\n",
    "\n",
    "output_directory = \"C:\\personal\\satalite-image-water-body-finder\\data\\label_masks\""
   ]
  },
  {
   "cell_type": "code",
   "execution_count": 3,
   "metadata": {
    "tags": [
     "outputPrepend"
    ]
   },
   "outputs": [],
   "source": [
    "for filename in os.listdir(geo_data_directory):\n",
    "    # load files\n",
    "    with open(geo_data_directory + \"/\" + filename) as f:\n",
    "        geo_data = json.load(f)\n",
    "\n",
    "    image_data = rasterio.open(image_data_directory + \"/\" + filename[0:-8] + \".tif\")\n",
    "\n",
    "    # extract shapes\n",
    "    shapes = []\n",
    "    for feature in geo_data['features']:\n",
    "        shapes.append(geometry.Polygon([[p[0], p[1]] for p in feature['geometry']['coordinates']]))\n",
    "\n",
    "    # create mask from shapes\n",
    "    mask = rasterio.mask.raster_geometry_mask(image_data, shapes)[0]\n",
    "\n",
    "    # save mask as jpg\n",
    "    image_mask = Image.fromarray(mask)\n",
    "    image_mask.save(output_directory + \"/{}.jpg\".format(filename[0:-8]),'JPEG')"
   ]
  },
  {
   "cell_type": "code",
   "execution_count": null,
   "metadata": {},
   "outputs": [],
   "source": []
  }
 ]
}