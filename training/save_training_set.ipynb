{
 "nbformat": 4,
 "nbformat_minor": 2,
 "metadata": {
  "language_info": {
   "name": "python",
   "codemirror_mode": {
    "name": "ipython",
    "version": 3
   },
   "version": "3.8.1-final"
  },
  "orig_nbformat": 2,
  "file_extension": ".py",
  "mimetype": "text/x-python",
  "name": "python",
  "npconvert_exporter": "python",
  "pygments_lexer": "ipython3",
  "version": 3,
  "kernelspec": {
   "name": "python38132bitenvvenv8ad15bd044324b0f90899fd32b6982f7",
   "display_name": "Python 3.8.1 32-bit ('env': venv)"
  }
 },
 "cells": [
  {
   "cell_type": "code",
   "execution_count": 1,
   "metadata": {},
   "outputs": [],
   "source": [
    "# imports\n",
    "\n",
    "import sys\n",
    "sys.path.append('../')\n",
    "\n",
    "from water_body_finder.feature_extraction import extract_variance, extract_mean_color, extract_entropy\n",
    "from water_body_finder.utilities import create_window\n",
    "import cv2\n",
    "import rasterio\n",
    "import pandas as pd\n",
    "from rasterio.plot import reshape_as_image"
   ]
  },
  {
   "cell_type": "code",
   "execution_count": 2,
   "metadata": {},
   "outputs": [],
   "source": [
    "# define parameters\n",
    "\n",
    "# must be odd number\n",
    "data_resolution = 5\n",
    "\n",
    "# size of largest window used in feature extraction, must be odd number\n",
    "data_padding = 15\n",
    "\n",
    "image_data_directory = \"D:\\\\WaterBodyExtraction\\\\WaterPolyData\\\\image_data\"\n",
    "label_data_directory = \"C:\\\\personal\\satalite-image-water-body-finder\\\\data\\\\label_masks\"\n",
    "output_directory = \"D:\\\\WaterBodyExtraction\\\\WaterPolyData\\\\training_sets\\\\training_set_1\""
   ]
  },
  {
   "cell_type": "code",
   "execution_count": 3,
   "metadata": {},
   "outputs": [],
   "source": [
    "# define training set format\n",
    "training_set_format = {\n",
    "    'color_r': [],\n",
    "    'color_g': [],\n",
    "    'color_b': [],\n",
    "    'entropy_a': [],\n",
    "    'entropy_b': [],\n",
    "    'label': []\n",
    "}\n",
    "\n",
    "# define feature extraction functions\n",
    "def extract_features(image_data, point, data_resolution, training_set):\n",
    "    window_a = create_window(image_data, point, 5)\n",
    "    window_b = create_window(image_data, point, 15)\n",
    "\n",
    "    mean_color = extract_mean_color(window_a)\n",
    "\n",
    "    training_set['color_r'].append(mean_color[0])\n",
    "    training_set['color_g'].append(mean_color[1])\n",
    "    training_set['color_b'].append(mean_color[2])\n",
    "    training_set['entropy_a'].append(extract_entropy(window_a))\n",
    "    training_set['entropy_b'].append(extract_entropy(window_b))\n",
    ""
   ]
  },
  {
   "cell_type": "code",
   "execution_count": 4,
   "metadata": {},
   "outputs": [
    {
     "output_type": "error",
     "ename": "MemoryError",
     "evalue": "",
     "traceback": [
      "\u001b[1;31m---------------------------------------------------------------------------\u001b[0m",
      "\u001b[1;31mMemoryError\u001b[0m                               Traceback (most recent call last)",
      "\u001b[1;32m<ipython-input-4-913246204707>\u001b[0m in \u001b[0;36m<module>\u001b[1;34m\u001b[0m\n\u001b[0;32m     32\u001b[0m \u001b[1;33m\u001b[0m\u001b[0m\n\u001b[0;32m     33\u001b[0m                 \u001b[1;31m# extract features\u001b[0m\u001b[1;33m\u001b[0m\u001b[1;33m\u001b[0m\u001b[1;33m\u001b[0m\u001b[0m\n\u001b[1;32m---> 34\u001b[1;33m                 \u001b[0mextract_features\u001b[0m\u001b[1;33m(\u001b[0m\u001b[0mimage_data\u001b[0m\u001b[1;33m,\u001b[0m \u001b[1;33m[\u001b[0m\u001b[0my\u001b[0m\u001b[1;33m,\u001b[0m \u001b[0mx\u001b[0m\u001b[1;33m]\u001b[0m\u001b[1;33m,\u001b[0m \u001b[0mdata_resolution\u001b[0m\u001b[1;33m,\u001b[0m \u001b[0mtraining_set\u001b[0m\u001b[1;33m)\u001b[0m\u001b[1;33m\u001b[0m\u001b[1;33m\u001b[0m\u001b[0m\n\u001b[0m\u001b[0;32m     35\u001b[0m                 \u001b[0mtraining_set\u001b[0m\u001b[1;33m[\u001b[0m\u001b[1;34m'label'\u001b[0m\u001b[1;33m]\u001b[0m\u001b[1;33m.\u001b[0m\u001b[0mappend\u001b[0m\u001b[1;33m(\u001b[0m\u001b[0mlabel\u001b[0m\u001b[1;33m)\u001b[0m\u001b[1;33m\u001b[0m\u001b[1;33m\u001b[0m\u001b[0m\n\u001b[0;32m     36\u001b[0m \u001b[1;33m\u001b[0m\u001b[0m\n",
      "\u001b[1;32m<ipython-input-3-a7e5ef3ba17e>\u001b[0m in \u001b[0;36mextract_features\u001b[1;34m(image_data, point, data_resolution, training_set)\u001b[0m\n\u001b[0;32m     19\u001b[0m     \u001b[0mtraining_set\u001b[0m\u001b[1;33m[\u001b[0m\u001b[1;34m'color_g'\u001b[0m\u001b[1;33m]\u001b[0m\u001b[1;33m.\u001b[0m\u001b[0mappend\u001b[0m\u001b[1;33m(\u001b[0m\u001b[0mmean_color\u001b[0m\u001b[1;33m[\u001b[0m\u001b[1;36m1\u001b[0m\u001b[1;33m]\u001b[0m\u001b[1;33m)\u001b[0m\u001b[1;33m\u001b[0m\u001b[1;33m\u001b[0m\u001b[0m\n\u001b[0;32m     20\u001b[0m     \u001b[0mtraining_set\u001b[0m\u001b[1;33m[\u001b[0m\u001b[1;34m'color_b'\u001b[0m\u001b[1;33m]\u001b[0m\u001b[1;33m.\u001b[0m\u001b[0mappend\u001b[0m\u001b[1;33m(\u001b[0m\u001b[0mmean_color\u001b[0m\u001b[1;33m[\u001b[0m\u001b[1;36m2\u001b[0m\u001b[1;33m]\u001b[0m\u001b[1;33m)\u001b[0m\u001b[1;33m\u001b[0m\u001b[1;33m\u001b[0m\u001b[0m\n\u001b[1;32m---> 21\u001b[1;33m     \u001b[0mtraining_set\u001b[0m\u001b[1;33m[\u001b[0m\u001b[1;34m'entropy_a'\u001b[0m\u001b[1;33m]\u001b[0m\u001b[1;33m.\u001b[0m\u001b[0mappend\u001b[0m\u001b[1;33m(\u001b[0m\u001b[0mextract_entropy\u001b[0m\u001b[1;33m(\u001b[0m\u001b[0mwindow_a\u001b[0m\u001b[1;33m)\u001b[0m\u001b[1;33m)\u001b[0m\u001b[1;33m\u001b[0m\u001b[1;33m\u001b[0m\u001b[0m\n\u001b[0m\u001b[0;32m     22\u001b[0m     \u001b[0mtraining_set\u001b[0m\u001b[1;33m[\u001b[0m\u001b[1;34m'entropy_b'\u001b[0m\u001b[1;33m]\u001b[0m\u001b[1;33m.\u001b[0m\u001b[0mappend\u001b[0m\u001b[1;33m(\u001b[0m\u001b[0mextract_entropy\u001b[0m\u001b[1;33m(\u001b[0m\u001b[0mwindow_b\u001b[0m\u001b[1;33m)\u001b[0m\u001b[1;33m)\u001b[0m\u001b[1;33m\u001b[0m\u001b[1;33m\u001b[0m\u001b[0m\n",
      "\u001b[1;31mMemoryError\u001b[0m: "
     ]
    }
   ],
   "source": [
    "for filename in os.listdir(image_data_directory)[0:50]:\n",
    "    # load files\n",
    "    raster_image_data = rasterio.open(image_data_directory + \"/\" + filename).read()\n",
    "    image_data = reshape_as_image(raster_image_data)\n",
    "\n",
    "    raster_label_data = rasterio.open(label_data_directory + \"/\" + filename.replace(\"tif\", \"png\")).read()\n",
    "    mask_data = reshape_as_image(raster_label_data)\n",
    "\n",
    "    # loop through image data and create training\n",
    "    height = int(image_data.shape[0] / data_resolution - data_padding / data_resolution)\n",
    "    width = int(image_data.shape[1] / data_resolution - data_padding / data_resolution)\n",
    "\n",
    "    data_set = []\n",
    "\n",
    "    offset = round(data_padding/2)\n",
    "\n",
    "    num_positive = 0\n",
    "    num_negative = 0\n",
    "\n",
    "    training_set = training_set_format\n",
    "\n",
    "    for j in range(height):\n",
    "        for i in range(width):\n",
    "            y = j * data_resolution + offset\n",
    "            x = i * data_resolution + offset\n",
    "            \n",
    "            # extract label\n",
    "            label_window = create_window(mask_data, [y, x], data_resolution)\n",
    "            label = label_window.mean(axis=0).mean(axis=0)[0] < 127\n",
    "\n",
    "            if (label or (num_positive >= num_negative)):\n",
    "                \n",
    "                # extract features\n",
    "                extract_features(image_data, [y, x], data_resolution, training_set)\n",
    "                training_set['label'].append(label)\n",
    "\n",
    "                # keep track of positive to negative ratios in training data\n",
    "                if (label):\n",
    "                    num_positive += 1\n",
    "                else:\n",
    "                    num_negative += 1\n",
    "\n",
    "    # save to csv\n",
    "    training_set_df = pd.DataFrame(training_set)\n",
    "    training_set_df.to_csv(output_directory + '\\\\' + filename.replace(\"tif\", \"csv\"))\n",
    ""
   ]
  }
 ]
}