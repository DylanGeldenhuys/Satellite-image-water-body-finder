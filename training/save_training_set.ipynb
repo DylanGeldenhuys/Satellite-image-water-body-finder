{
 "nbformat": 4,
 "nbformat_minor": 2,
 "metadata": {
  "language_info": {
   "name": "python",
   "codemirror_mode": {
    "name": "ipython",
    "version": 3
   },
   "version": "3.8.1-final"
  },
  "orig_nbformat": 2,
  "file_extension": ".py",
  "mimetype": "text/x-python",
  "name": "python",
  "npconvert_exporter": "python",
  "pygments_lexer": "ipython3",
  "version": 3,
  "kernelspec": {
   "name": "python38132bitenvvenv8ad15bd044324b0f90899fd32b6982f7",
   "display_name": "Python 3.8.1 32-bit ('env': venv)"
  }
 },
 "cells": [
  {
   "cell_type": "code",
   "execution_count": 3,
   "metadata": {},
   "outputs": [],
   "source": [
    "# imports\n",
    "\n",
    "import sys\n",
    "sys.path.append('../')\n",
    "\n",
    "from water_body_finder.feature_extraction import variance\n",
    "from water_body_finder.utilities import create_window"
   ]
  },
  {
   "cell_type": "code",
   "execution_count": null,
   "metadata": {},
   "outputs": [],
   "source": [
    "# define parameters\n",
    "\n",
    "# must be odd number\n",
    "data_resolution = 5\n",
    "data_padding = 1\n",
    "image_data_directory = \"\"\n",
    "label_data_directory = \"\"\n",
    "output_directory = \"\""
   ]
  },
  {
   "cell_type": "code",
   "execution_count": null,
   "metadata": {},
   "outputs": [],
   "source": [
    "\n",
    "\n",
    "height = int((image.shape[0]) / data_resolution) - data_padding\n",
    "width = int((image.shape[1]) / data_resolution) - data_padding\n",
    "\n",
    "data_set = []\n",
    "\n",
    "offset = round(data_resolution/2)\n",
    "\n",
    "num_positive = 0\n",
    "num_negative = 0\n",
    "\n",
    "for j in range(height):\n",
    "    for i in range(width):\n",
    "        y = j * data_resolution + offset\n",
    "        x = i * data_resolution + offset\n",
    "        \n",
    "        label_window = create_window(mask, [x,y], data_resolution)\n",
    "        label = extract_label(label_window)\n",
    "\n",
    "        if (label || (num_positive >= num_negative)):\n",
    "            \n",
    "            # --------------------------------------------------\n",
    "            # extract features\n",
    "\n",
    "            \n",
    "\n",
    "            # --------------------------------------------------\n",
    "\n",
    "            # keep track of positive to negative ratios in training data\n",
    "            if (label):\n",
    "                num_positive += 1\n",
    "            else:\n",
    "                num_negative += 1"
   ]
  }
 ]
}