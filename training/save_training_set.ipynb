{
 "nbformat": 4,
 "nbformat_minor": 2,
 "metadata": {
  "language_info": {
   "name": "python",
   "codemirror_mode": {
    "name": "ipython",
    "version": 3
   },
   "version": "3.8.1-final"
  },
  "orig_nbformat": 2,
  "file_extension": ".py",
  "mimetype": "text/x-python",
  "name": "python",
  "npconvert_exporter": "python",
  "pygments_lexer": "ipython3",
  "version": 3,
  "kernelspec": {
   "name": "python38132bitenvvenv8ad15bd044324b0f90899fd32b6982f7",
   "display_name": "Python 3.8.1 32-bit ('env': venv)"
  }
 },
 "cells": [
  {
   "cell_type": "code",
   "execution_count": 1,
   "metadata": {},
   "outputs": [],
   "source": [
    "# imports\n",
    "\n",
    "import sys\n",
    "sys.path.append('../')\n",
    "\n",
    "from water_body_finder.feature_extraction import extract_variance\n",
    "from water_body_finder.utilities import create_window\n",
    "import cv2\n",
    "import rasterio\n",
    "import pandas as pd\n",
    "from rasterio.plot import reshape_as_image"
   ]
  },
  {
   "cell_type": "code",
   "execution_count": 2,
   "metadata": {},
   "outputs": [],
   "source": [
    "# define parameters\n",
    "\n",
    "# must be odd number\n",
    "data_resolution = 1\n",
    "\n",
    "# size of largest window used in feature extraction, must be odd number\n",
    "data_padding = 15\n",
    "\n",
    "image_data_directory = \"C:\\\\personal\\\\satalite-image-water-body-finder\\\\data\\\\image_data\"\n",
    "label_data_directory = \"C:\\\\personal\\satalite-image-water-body-finder\\\\data\\\\label_masks\"\n",
    "output_directory = \"C:\\\\personal\\\\satalite-image-water-body-finder\\\\data\\\\training_sets\\\\training_set_2\""
   ]
  },
  {
   "cell_type": "code",
   "execution_count": 3,
   "metadata": {},
   "outputs": [],
   "source": [
    "# define training set format\n",
    "training_set_format = {\n",
    "    'variance_a': [],\n",
    "    'variance_b': [],\n",
    "    'label': []\n",
    "}\n",
    "\n",
    "# define feature extraction functions\n",
    "def extract_features(image_data, point, data_resolution, training_set):\n",
    "    window_a = create_window(image_data, point, 5)\n",
    "    window_b = create_window(image_data, point, data_padding)\n",
    "\n",
    "    training_set['variance_a'].append(extract_variance(window_a))\n",
    "    training_set['variance_b'].append(extract_variance(window_b))\n"
   ]
  },
  {
   "cell_type": "code",
   "execution_count": 4,
   "metadata": {},
   "outputs": [
    {
     "output_type": "error",
     "ename": "KeyboardInterrupt",
     "evalue": "",
     "traceback": [
      "\u001b[1;31m---------------------------------------------------------------------------\u001b[0m",
      "\u001b[1;31mKeyboardInterrupt\u001b[0m                         Traceback (most recent call last)",
      "\u001b[1;32m<ipython-input-4-fffdc89ffdef>\u001b[0m in \u001b[0;36m<module>\u001b[1;34m\u001b[0m\n\u001b[0;32m     27\u001b[0m             \u001b[1;31m# extract label\u001b[0m\u001b[1;33m\u001b[0m\u001b[1;33m\u001b[0m\u001b[1;33m\u001b[0m\u001b[0m\n\u001b[0;32m     28\u001b[0m             \u001b[0mlabel_window\u001b[0m \u001b[1;33m=\u001b[0m \u001b[0mcreate_window\u001b[0m\u001b[1;33m(\u001b[0m\u001b[0mmask_data\u001b[0m\u001b[1;33m,\u001b[0m \u001b[1;33m[\u001b[0m\u001b[0mx\u001b[0m\u001b[1;33m,\u001b[0m\u001b[0my\u001b[0m\u001b[1;33m]\u001b[0m\u001b[1;33m,\u001b[0m \u001b[0mdata_resolution\u001b[0m\u001b[1;33m)\u001b[0m\u001b[1;33m\u001b[0m\u001b[1;33m\u001b[0m\u001b[0m\n\u001b[1;32m---> 29\u001b[1;33m             \u001b[0mlabel\u001b[0m \u001b[1;33m=\u001b[0m \u001b[0mlabel_window\u001b[0m\u001b[1;33m.\u001b[0m\u001b[0mmean\u001b[0m\u001b[1;33m(\u001b[0m\u001b[0maxis\u001b[0m\u001b[1;33m=\u001b[0m\u001b[1;36m0\u001b[0m\u001b[1;33m)\u001b[0m\u001b[1;33m.\u001b[0m\u001b[0mmean\u001b[0m\u001b[1;33m(\u001b[0m\u001b[0maxis\u001b[0m\u001b[1;33m=\u001b[0m\u001b[1;36m0\u001b[0m\u001b[1;33m)\u001b[0m\u001b[1;33m[\u001b[0m\u001b[1;36m0\u001b[0m\u001b[1;33m]\u001b[0m \u001b[1;33m<\u001b[0m \u001b[1;36m127\u001b[0m\u001b[1;33m\u001b[0m\u001b[1;33m\u001b[0m\u001b[0m\n\u001b[0m\u001b[0;32m     30\u001b[0m \u001b[1;33m\u001b[0m\u001b[0m\n\u001b[0;32m     31\u001b[0m             \u001b[1;32mif\u001b[0m \u001b[1;33m(\u001b[0m\u001b[0mlabel\u001b[0m \u001b[1;32mor\u001b[0m \u001b[1;33m(\u001b[0m\u001b[0mnum_positive\u001b[0m \u001b[1;33m>=\u001b[0m \u001b[0mnum_negative\u001b[0m\u001b[1;33m)\u001b[0m\u001b[1;33m)\u001b[0m\u001b[1;33m:\u001b[0m\u001b[1;33m\u001b[0m\u001b[1;33m\u001b[0m\u001b[0m\n",
      "\u001b[1;32mc:\\personal\\satalite-image-water-body-finder\\env\\lib\\site-packages\\numpy\\core\\_methods.py\u001b[0m in \u001b[0;36m_mean\u001b[1;34m(a, axis, dtype, out, keepdims)\u001b[0m\n\u001b[0;32m    133\u001b[0m \u001b[1;33m\u001b[0m\u001b[0m\n\u001b[0;32m    134\u001b[0m \u001b[1;32mdef\u001b[0m \u001b[0m_mean\u001b[0m\u001b[1;33m(\u001b[0m\u001b[0ma\u001b[0m\u001b[1;33m,\u001b[0m \u001b[0maxis\u001b[0m\u001b[1;33m=\u001b[0m\u001b[1;32mNone\u001b[0m\u001b[1;33m,\u001b[0m \u001b[0mdtype\u001b[0m\u001b[1;33m=\u001b[0m\u001b[1;32mNone\u001b[0m\u001b[1;33m,\u001b[0m \u001b[0mout\u001b[0m\u001b[1;33m=\u001b[0m\u001b[1;32mNone\u001b[0m\u001b[1;33m,\u001b[0m \u001b[0mkeepdims\u001b[0m\u001b[1;33m=\u001b[0m\u001b[1;32mFalse\u001b[0m\u001b[1;33m)\u001b[0m\u001b[1;33m:\u001b[0m\u001b[1;33m\u001b[0m\u001b[1;33m\u001b[0m\u001b[0m\n\u001b[1;32m--> 135\u001b[1;33m     \u001b[0marr\u001b[0m \u001b[1;33m=\u001b[0m \u001b[0masanyarray\u001b[0m\u001b[1;33m(\u001b[0m\u001b[0ma\u001b[0m\u001b[1;33m)\u001b[0m\u001b[1;33m\u001b[0m\u001b[1;33m\u001b[0m\u001b[0m\n\u001b[0m\u001b[0;32m    136\u001b[0m \u001b[1;33m\u001b[0m\u001b[0m\n\u001b[0;32m    137\u001b[0m     \u001b[0mis_float16_result\u001b[0m \u001b[1;33m=\u001b[0m \u001b[1;32mFalse\u001b[0m\u001b[1;33m\u001b[0m\u001b[1;33m\u001b[0m\u001b[0m\n",
      "\u001b[1;31mKeyboardInterrupt\u001b[0m: "
     ]
    }
   ],
   "source": [
    "for filename in os.listdir(image_data_directory)[1:]:\n",
    "    # load files\n",
    "    raster_image_data = rasterio.open(image_data_directory + \"/\" + filename).read()\n",
    "    image_data = reshape_as_image(raster_image_data)\n",
    "\n",
    "    raster_label_data = rasterio.open(label_data_directory + \"/\" + filename.replace(\"tif\", \"jpg\")).read()\n",
    "    mask_data = reshape_as_image(raster_label_data)\n",
    "\n",
    "    # loop through image data and create training\n",
    "    height = int(((image_data.shape[0]) / data_resolution) - data_padding / data_resolution)\n",
    "    width = int(((image_data.shape[1]) / data_resolution) - data_padding / data_resolution)\n",
    "\n",
    "    data_set = []\n",
    "\n",
    "    offset = round(data_padding/2)\n",
    "\n",
    "    num_positive = 0\n",
    "    num_negative = 0\n",
    "\n",
    "    training_set = training_set_format\n",
    "\n",
    "    for j in range(height):\n",
    "        for i in range(width):\n",
    "            y = j * data_resolution + offset\n",
    "            x = i * data_resolution + offset\n",
    "            \n",
    "            # extract label\n",
    "            label_window = create_window(mask_data, [x,y], data_resolution)\n",
    "            label = label_window.mean(axis=0).mean(axis=0)[0] < 127\n",
    "\n",
    "            if (label or (num_positive >= num_negative)):\n",
    "                \n",
    "                # extract features\n",
    "                extract_features(image_data, [x, y], data_resolution, training_set)\n",
    "                training_set['label'].append(label)\n",
    "\n",
    "                # keep track of positive to negative ratios in training data\n",
    "                if (label):\n",
    "                    num_positive += 1\n",
    "                else:\n",
    "                    num_negative += 1\n",
    "\n",
    "    # save to csv\n",
    "    training_set_df = pd.DataFrame(training_set)\n",
    "    training_set_df.to_csv(output_directory + '\\\\' + filename.replace(\"tif\", \"csv\"))\n",
    ""
   ]
  }
 ]
}