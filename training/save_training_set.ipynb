{
 "nbformat": 4,
 "nbformat_minor": 2,
 "metadata": {
  "language_info": {
   "name": "python",
   "codemirror_mode": {
    "name": "ipython",
    "version": 3
   },
   "version": "3.8.1-final"
  },
  "orig_nbformat": 2,
  "file_extension": ".py",
  "mimetype": "text/x-python",
  "name": "python",
  "npconvert_exporter": "python",
  "pygments_lexer": "ipython3",
  "version": 3,
  "kernelspec": {
   "name": "python38132bitenvvenv8ad15bd044324b0f90899fd32b6982f7",
   "display_name": "Python 3.8.1 32-bit ('env': venv)"
  }
 },
 "cells": [
  {
   "cell_type": "code",
   "execution_count": 1,
   "metadata": {},
   "outputs": [],
   "source": [
    "# imports\n",
    "\n",
    "import sys\n",
    "sys.path.append('../')\n",
    "\n",
    "from water_body_finder.feature_extraction import extract_variance, extract_mean_color, extract_entropy\n",
    "from water_body_finder.utilities import create_window\n",
    "import cv2\n",
    "import rasterio\n",
    "import pandas as pd\n",
    "from rasterio.plot import reshape_as_image"
   ]
  },
  {
   "cell_type": "code",
   "execution_count": 2,
   "metadata": {},
   "outputs": [],
   "source": [
    "# define parameters\n",
    "\n",
    "# must be odd number\n",
    "data_resolution = 5\n",
    "\n",
    "# size of largest window used in feature extraction, must be odd number\n",
    "data_padding = 15\n",
    "\n",
    "image_data_directory = \"D:\\\\WaterBodyExtraction\\\\WaterPolyData\\\\image_data\"\n",
    "label_data_directory = \"C:\\\\personal\\satalite-image-water-body-finder\\\\data\\\\label_masks\"\n",
    "output_directory = \"D:\\\\WaterBodyExtraction\\\\WaterPolyData\\\\training_sets\\\\training_set_1\""
   ]
  },
  {
   "cell_type": "code",
   "execution_count": 3,
   "metadata": {},
   "outputs": [],
   "source": [
    "# define training set format\n",
    "training_set_format = {\n",
    "    'color_r': [],\n",
    "    'color_g': [],\n",
    "    'color_b': [],\n",
    "    'entropy_a': [],\n",
    "    'entropy_b': [],\n",
    "    'label': []\n",
    "}\n",
    "\n",
    "# define feature extraction functions\n",
    "def extract_features(image_data, point, data_resolution, training_set):\n",
    "    window_a = create_window(image_data, point, 5)\n",
    "    window_b = create_window(image_data, point, 15)\n",
    "\n",
    "    mean_color = extract_mean_color(window_a)\n",
    "\n",
    "    training_set['color_r'].append(mean_color[0])\n",
    "    training_set['color_g'].append(mean_color[1])\n",
    "    training_set['color_b'].append(mean_color[2])\n",
    "    training_set['entropy_a'].append(extract_entropy(window_a))\n",
    "    training_set['entropy_b'].append(extract_entropy(window_b))\n",
    ""
   ]
  },
  {
   "cell_type": "code",
   "execution_count": 4,
   "metadata": {},
   "outputs": [
    {
     "output_type": "error",
     "ename": "RasterioIOError",
     "evalue": "C:\\personal\\satalite-image-water-body-finder\\data\\label_masks/2529CC09.jpg: No such file or directory",
     "traceback": [
      "\u001b[1;31m---------------------------------------------------------------------------\u001b[0m",
      "\u001b[1;31mCPLE_OpenFailedError\u001b[0m                      Traceback (most recent call last)",
      "\u001b[1;32mrasterio\\_base.pyx\u001b[0m in \u001b[0;36mrasterio._base.DatasetBase.__init__\u001b[1;34m()\u001b[0m\n",
      "\u001b[1;32mrasterio\\_shim.pyx\u001b[0m in \u001b[0;36mrasterio._shim.open_dataset\u001b[1;34m()\u001b[0m\n",
      "\u001b[1;32mrasterio\\_err.pyx\u001b[0m in \u001b[0;36mrasterio._err.exc_wrap_pointer\u001b[1;34m()\u001b[0m\n",
      "\u001b[1;31mCPLE_OpenFailedError\u001b[0m: C:\\personal\\satalite-image-water-body-finder\\data\\label_masks/2529CC09.jpg: No such file or directory",
      "\nDuring handling of the above exception, another exception occurred:\n",
      "\u001b[1;31mRasterioIOError\u001b[0m                           Traceback (most recent call last)",
      "\u001b[1;32m<ipython-input-4-cfcc219e206b>\u001b[0m in \u001b[0;36m<module>\u001b[1;34m\u001b[0m\n\u001b[0;32m      4\u001b[0m     \u001b[0mimage_data\u001b[0m \u001b[1;33m=\u001b[0m \u001b[0mreshape_as_image\u001b[0m\u001b[1;33m(\u001b[0m\u001b[0mraster_image_data\u001b[0m\u001b[1;33m)\u001b[0m\u001b[1;33m\u001b[0m\u001b[1;33m\u001b[0m\u001b[0m\n\u001b[0;32m      5\u001b[0m \u001b[1;33m\u001b[0m\u001b[0m\n\u001b[1;32m----> 6\u001b[1;33m     \u001b[0mraster_label_data\u001b[0m \u001b[1;33m=\u001b[0m \u001b[0mrasterio\u001b[0m\u001b[1;33m.\u001b[0m\u001b[0mopen\u001b[0m\u001b[1;33m(\u001b[0m\u001b[0mlabel_data_directory\u001b[0m \u001b[1;33m+\u001b[0m \u001b[1;34m\"/\"\u001b[0m \u001b[1;33m+\u001b[0m \u001b[0mfilename\u001b[0m\u001b[1;33m.\u001b[0m\u001b[0mreplace\u001b[0m\u001b[1;33m(\u001b[0m\u001b[1;34m\"tif\"\u001b[0m\u001b[1;33m,\u001b[0m \u001b[1;34m\"jpg\"\u001b[0m\u001b[1;33m)\u001b[0m\u001b[1;33m)\u001b[0m\u001b[1;33m.\u001b[0m\u001b[0mread\u001b[0m\u001b[1;33m(\u001b[0m\u001b[1;33m)\u001b[0m\u001b[1;33m\u001b[0m\u001b[1;33m\u001b[0m\u001b[0m\n\u001b[0m\u001b[0;32m      7\u001b[0m     \u001b[0mmask_data\u001b[0m \u001b[1;33m=\u001b[0m \u001b[0mreshape_as_image\u001b[0m\u001b[1;33m(\u001b[0m\u001b[0mraster_label_data\u001b[0m\u001b[1;33m)\u001b[0m\u001b[1;33m\u001b[0m\u001b[1;33m\u001b[0m\u001b[0m\n\u001b[0;32m      8\u001b[0m \u001b[1;33m\u001b[0m\u001b[0m\n",
      "\u001b[1;32mc:\\personal\\satalite-image-water-body-finder\\env\\lib\\site-packages\\rasterio\\env.py\u001b[0m in \u001b[0;36mwrapper\u001b[1;34m(*args, **kwds)\u001b[0m\n\u001b[0;32m    432\u001b[0m \u001b[1;33m\u001b[0m\u001b[0m\n\u001b[0;32m    433\u001b[0m         \u001b[1;32mwith\u001b[0m \u001b[0menv_ctor\u001b[0m\u001b[1;33m(\u001b[0m\u001b[0msession\u001b[0m\u001b[1;33m=\u001b[0m\u001b[0msession\u001b[0m\u001b[1;33m)\u001b[0m\u001b[1;33m:\u001b[0m\u001b[1;33m\u001b[0m\u001b[1;33m\u001b[0m\u001b[0m\n\u001b[1;32m--> 434\u001b[1;33m             \u001b[1;32mreturn\u001b[0m \u001b[0mf\u001b[0m\u001b[1;33m(\u001b[0m\u001b[1;33m*\u001b[0m\u001b[0margs\u001b[0m\u001b[1;33m,\u001b[0m \u001b[1;33m**\u001b[0m\u001b[0mkwds\u001b[0m\u001b[1;33m)\u001b[0m\u001b[1;33m\u001b[0m\u001b[1;33m\u001b[0m\u001b[0m\n\u001b[0m\u001b[0;32m    435\u001b[0m \u001b[1;33m\u001b[0m\u001b[0m\n\u001b[0;32m    436\u001b[0m     \u001b[1;32mreturn\u001b[0m \u001b[0mwrapper\u001b[0m\u001b[1;33m\u001b[0m\u001b[1;33m\u001b[0m\u001b[0m\n",
      "\u001b[1;32mc:\\personal\\satalite-image-water-body-finder\\env\\lib\\site-packages\\rasterio\\__init__.py\u001b[0m in \u001b[0;36mopen\u001b[1;34m(fp, mode, driver, width, height, count, crs, transform, dtype, nodata, sharing, **kwargs)\u001b[0m\n\u001b[0;32m    225\u001b[0m         \u001b[1;31m# None.\u001b[0m\u001b[1;33m\u001b[0m\u001b[1;33m\u001b[0m\u001b[1;33m\u001b[0m\u001b[0m\n\u001b[0;32m    226\u001b[0m         \u001b[1;32mif\u001b[0m \u001b[0mmode\u001b[0m \u001b[1;33m==\u001b[0m \u001b[1;34m'r'\u001b[0m\u001b[1;33m:\u001b[0m\u001b[1;33m\u001b[0m\u001b[1;33m\u001b[0m\u001b[0m\n\u001b[1;32m--> 227\u001b[1;33m             \u001b[0ms\u001b[0m \u001b[1;33m=\u001b[0m \u001b[0mDatasetReader\u001b[0m\u001b[1;33m(\u001b[0m\u001b[0mpath\u001b[0m\u001b[1;33m,\u001b[0m \u001b[0mdriver\u001b[0m\u001b[1;33m=\u001b[0m\u001b[0mdriver\u001b[0m\u001b[1;33m,\u001b[0m \u001b[0msharing\u001b[0m\u001b[1;33m=\u001b[0m\u001b[0msharing\u001b[0m\u001b[1;33m,\u001b[0m \u001b[1;33m**\u001b[0m\u001b[0mkwargs\u001b[0m\u001b[1;33m)\u001b[0m\u001b[1;33m\u001b[0m\u001b[1;33m\u001b[0m\u001b[0m\n\u001b[0m\u001b[0;32m    228\u001b[0m         \u001b[1;32melif\u001b[0m \u001b[0mmode\u001b[0m \u001b[1;33m==\u001b[0m \u001b[1;34m'r+'\u001b[0m\u001b[1;33m:\u001b[0m\u001b[1;33m\u001b[0m\u001b[1;33m\u001b[0m\u001b[0m\n\u001b[0;32m    229\u001b[0m             \u001b[0ms\u001b[0m \u001b[1;33m=\u001b[0m \u001b[0mget_writer_for_path\u001b[0m\u001b[1;33m(\u001b[0m\u001b[0mpath\u001b[0m\u001b[1;33m)\u001b[0m\u001b[1;33m(\u001b[0m\u001b[0mpath\u001b[0m\u001b[1;33m,\u001b[0m \u001b[0mmode\u001b[0m\u001b[1;33m,\u001b[0m \u001b[0mdriver\u001b[0m\u001b[1;33m=\u001b[0m\u001b[0mdriver\u001b[0m\u001b[1;33m,\u001b[0m \u001b[0msharing\u001b[0m\u001b[1;33m=\u001b[0m\u001b[0msharing\u001b[0m\u001b[1;33m,\u001b[0m \u001b[1;33m**\u001b[0m\u001b[0mkwargs\u001b[0m\u001b[1;33m)\u001b[0m\u001b[1;33m\u001b[0m\u001b[1;33m\u001b[0m\u001b[0m\n",
      "\u001b[1;32mrasterio\\_base.pyx\u001b[0m in \u001b[0;36mrasterio._base.DatasetBase.__init__\u001b[1;34m()\u001b[0m\n",
      "\u001b[1;31mRasterioIOError\u001b[0m: C:\\personal\\satalite-image-water-body-finder\\data\\label_masks/2529CC09.jpg: No such file or directory"
     ]
    }
   ],
   "source": [
    "for filename in os.listdir(image_data_directory)[0:50]:\n",
    "    # load files\n",
    "    raster_image_data = rasterio.open(image_data_directory + \"/\" + filename).read()\n",
    "    image_data = reshape_as_image(raster_image_data)\n",
    "\n",
    "    raster_label_data = rasterio.open(label_data_directory + \"/\" + filename.replace(\"tif\", \"png\")).read()\n",
    "    mask_data = reshape_as_image(raster_label_data)\n",
    "\n",
    "    # loop through image data and create training\n",
    "    height = int(image_data.shape[0] / data_resolution - data_padding / data_resolution)\n",
    "    width = int(image_data.shape[1] / data_resolution - data_padding / data_resolution)\n",
    "\n",
    "    data_set = []\n",
    "\n",
    "    offset = round(data_padding/2)\n",
    "\n",
    "    num_positive = 0\n",
    "    num_negative = 0\n",
    "\n",
    "    training_set = training_set_format\n",
    "\n",
    "    for j in range(height):\n",
    "        for i in range(width):\n",
    "            y = j * data_resolution + offset\n",
    "            x = i * data_resolution + offset\n",
    "            \n",
    "            # extract label\n",
    "            label_window = create_window(mask_data, [y, x], data_resolution)\n",
    "            label = label_window.mean(axis=0).mean(axis=0)[0] < 127\n",
    "\n",
    "            if (label or (num_positive >= num_negative)):\n",
    "                \n",
    "                # extract features\n",
    "                extract_features(image_data, [y, x], data_resolution, training_set)\n",
    "                training_set['label'].append(label)\n",
    "\n",
    "                # keep track of positive to negative ratios in training data\n",
    "                if (label):\n",
    "                    num_positive += 1\n",
    "                else:\n",
    "                    num_negative += 1\n",
    "\n",
    "    # save to csv\n",
    "    training_set_df = pd.DataFrame(training_set)\n",
    "    training_set_df.to_csv(output_directory + '\\\\' + filename.replace(\"tif\", \"csv\"))\n"
   ]
  }
 ]
}